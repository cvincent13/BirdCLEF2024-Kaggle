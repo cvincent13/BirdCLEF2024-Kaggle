{
 "cells": [
  {
   "cell_type": "code",
   "execution_count": 1,
   "id": "4807f090",
   "metadata": {
    "execution": {
     "iopub.execute_input": "2024-06-07T22:47:00.075321Z",
     "iopub.status.busy": "2024-06-07T22:47:00.074793Z",
     "iopub.status.idle": "2024-06-07T22:47:20.288514Z",
     "shell.execute_reply": "2024-06-07T22:47:20.286820Z"
    },
    "papermill": {
     "duration": 20.227246,
     "end_time": "2024-06-07T22:47:20.291802",
     "exception": false,
     "start_time": "2024-06-07T22:47:00.064556",
     "status": "completed"
    },
    "tags": []
   },
   "outputs": [
    {
     "name": "stdout",
     "output_type": "stream",
     "text": [
      "Looking in links: /kaggle/input/pip-wheels-birds\r\n",
      "Processing /kaggle/input/pip-wheels-birds/openvino-2024.1.0-15008-cp310-cp310-manylinux2014_x86_64.whl\r\n",
      "Requirement already satisfied: numpy<2.0.0,>=1.16.6 in /opt/conda/lib/python3.10/site-packages (from openvino==2024.1.0) (1.26.4)\r\n",
      "Processing /kaggle/input/pip-wheels-birds/openvino_telemetry-2024.1.0-py3-none-any.whl (from openvino==2024.1.0)\r\n",
      "Requirement already satisfied: packaging in /opt/conda/lib/python3.10/site-packages (from openvino==2024.1.0) (21.3)\r\n",
      "Requirement already satisfied: pyparsing!=3.0.5,>=2.0.2 in /opt/conda/lib/python3.10/site-packages (from packaging->openvino==2024.1.0) (3.1.1)\r\n",
      "Installing collected packages: openvino-telemetry, openvino\r\n",
      "Successfully installed openvino-2024.1.0 openvino-telemetry-2024.1.0\r\n"
     ]
    }
   ],
   "source": [
    "!pip install /kaggle/input/pip-wheels-birds/openvino-2024.1.0-15008-cp310-cp310-manylinux2014_x86_64.whl --no-index --find-links /kaggle/input/pip-wheels-birds"
   ]
  },
  {
   "cell_type": "code",
   "execution_count": 2,
   "id": "9a24139a",
   "metadata": {
    "execution": {
     "iopub.execute_input": "2024-06-07T22:47:20.311244Z",
     "iopub.status.busy": "2024-06-07T22:47:20.310771Z",
     "iopub.status.idle": "2024-06-07T22:47:34.347282Z",
     "shell.execute_reply": "2024-06-07T22:47:34.345863Z"
    },
    "papermill": {
     "duration": 14.049999,
     "end_time": "2024-06-07T22:47:34.350552",
     "exception": false,
     "start_time": "2024-06-07T22:47:20.300553",
     "status": "completed"
    },
    "tags": []
   },
   "outputs": [],
   "source": [
    "import numpy as np\n",
    "import torch\n",
    "import torch.nn as nn\n",
    "import torchaudio\n",
    "import pandas as pd\n",
    "import os\n",
    "import gc\n",
    "from tqdm import tqdm\n",
    "from glob import glob\n",
    "import time\n",
    "import scipy\n",
    "from functools import partial\n",
    "from scipy import signal\n",
    "from scipy.ndimage import gaussian_filter1d\n",
    "\n",
    "import torch.jit as jit\n",
    "from torch.utils.data import Dataset, DataLoader\n",
    "from torchvision.transforms import v2\n",
    "from torchvision.models import get_model\n",
    "import timm\n",
    "\n",
    "import openvino as ov\n",
    "import openvino.properties as props\n",
    "import openvino.properties.hint as hints\n",
    "from concurrent import futures"
   ]
  },
  {
   "cell_type": "code",
   "execution_count": 3,
   "id": "1d12a521",
   "metadata": {
    "execution": {
     "iopub.execute_input": "2024-06-07T22:47:34.370950Z",
     "iopub.status.busy": "2024-06-07T22:47:34.370425Z",
     "iopub.status.idle": "2024-06-07T22:47:34.382138Z",
     "shell.execute_reply": "2024-06-07T22:47:34.380835Z"
    },
    "papermill": {
     "duration": 0.024845,
     "end_time": "2024-06-07T22:47:34.385149",
     "exception": false,
     "start_time": "2024-06-07T22:47:34.360304",
     "status": "completed"
    },
    "tags": []
   },
   "outputs": [],
   "source": [
    "class Config:\n",
    "    use_1_peak = False\n",
    "    peak_filter = 'gaussian'\n",
    "    use_peaks = True\n",
    "    n_peaks = 3\n",
    "    duration = 5\n",
    "    sample_rate = 32000\n",
    "    target_length = 500 #!!!!!!!!!!!!\n",
    "    n_mels = 128 #!!!!!!!!!!!!!!!\n",
    "    n_fft = 1024\n",
    "    window = 160 #!!!!!!!!!!!!!\n",
    "    audio_len = duration*sample_rate\n",
    "    hop_length = 64 #!!!!!!!!!!\n",
    "    fmin = 50\n",
    "    fmax = 16000\n",
    "    top_db = 80\n",
    "\n",
    "    n_classes = 182\n",
    "    n_channels = 1 #!!!!!!!!!!!\n",
    "    \n",
    "    use_openvino = True\n",
    "    multithreading = False\n",
    "    checkpoint_dir = '/kaggle/input/mn-20-peak-full/other/06-07_13-17_128x500_mn20_as_exp-gemsed_peaks_gaussian_mixup/1'\n",
    "    loss = 'crossentropy'\n",
    "    ensemble_checkpoints = ['/kaggle/input/mn-20-peak-full/other/06-07_13-17_128x500_mn20_as_exp-gemsed_peaks_gaussian_mixup/1',\n",
    "                            '/kaggle/input/mn-20-peak-full/other/06-07_17-36_128x500_mn20_as_exp-gemsed_peaks_gaussian_mixup_nocw/1',\n",
    "                            '/kaggle/input/mn-20-peak-full/other/06-06_14-28_128x500_mn20_as_exp-peakgemsed_gaussian_mixup/1',\n",
    "                            #'/kaggle/input/mn-20/other/2024-06-03_01-53-27_gemsed_2wayfocal/1',\n",
    "                            #'/kaggle/input/mn-20/other/2024-06-03_03-22-49_msgemsed/1',\n",
    "                            #'/kaggle/input/mn-20/other/2024-05-30_21-30-20_gemattms-128x384/1'\n",
    "                            #'/kaggle/input/mn-20/other/2024-05-29_10-17-54_att-128-384/1',\n",
    "                            #'/kaggle/input/mn-20/other/2024-05-29_10-17-54_att-128-384/1',\n",
    "                            #'/kaggle/input/mn-20/other/2024-05-29_10-17-54_att-128-384/1',\n",
    "                            #'/kaggle/input/mn-20/other/2024-05-29_10-17-54_att-128-384/1',\n",
    "                            #'/kaggle/input/mn-20/other/2024-05-29_10-17-54_att-128-384/1'\n",
    "                           ]\n",
    "    ensemble_losses = ['crossentropy', 'crossentropy', 'crossentropy', 'bce', 'crossentropy',\n",
    "                       'crossentropy', 'crossentropy', 'crossentropy', 'crossentropy', 'crossentropy']\n",
    "\n",
    "    standardize = False\n",
    "    dataset_mean = [-22.9137] #[-16.8828]\n",
    "    dataset_std = [11.8739] #[12.4019]"
   ]
  },
  {
   "cell_type": "code",
   "execution_count": 4,
   "id": "4d6d8142",
   "metadata": {
    "execution": {
     "iopub.execute_input": "2024-06-07T22:47:34.404206Z",
     "iopub.status.busy": "2024-06-07T22:47:34.403695Z",
     "iopub.status.idle": "2024-06-07T22:47:34.439264Z",
     "shell.execute_reply": "2024-06-07T22:47:34.437824Z"
    },
    "papermill": {
     "duration": 0.048709,
     "end_time": "2024-06-07T22:47:34.442215",
     "exception": false,
     "start_time": "2024-06-07T22:47:34.393506",
     "status": "completed"
    },
    "tags": []
   },
   "outputs": [],
   "source": [
    "def create_frames(waveform, duration=5, sr=32000):\n",
    "    frame_size = int(duration * sr)\n",
    "    surplus = waveform.size(-1)%frame_size\n",
    "    if surplus > 0:\n",
    "        waveform = waveform[:, :-surplus]\n",
    "    frames = waveform.view(-1, 1, frame_size)\n",
    "    return frames\n",
    "\n",
    "def find_peak_max(x, filter='savgol'):\n",
    "    if filter == 'savgol':\n",
    "        smooth_x = signal.savgol_filter(x, window_length=100, polyorder=2)\n",
    "    elif filter == 'gaussian':\n",
    "        smooth_x = gaussian_filter1d(x, sigma=25)\n",
    "    else:\n",
    "        smooth_x = x\n",
    "    return smooth_x.argmax(axis=-1)\n",
    "\n",
    "def window_around_peak(len_x, peak, window_size):\n",
    "    half_window = window_size // 2\n",
    "    start_index = max(0, peak - half_window)\n",
    "    end_index = min(len_x, peak + half_window)\n",
    "\n",
    "    # Adjust the window if it's too close to the borders\n",
    "    if end_index - start_index < window_size:\n",
    "        if start_index == 0:\n",
    "            end_index = min(len_x, start_index + window_size)\n",
    "        elif end_index == len_x:\n",
    "            start_index = max(0, end_index - window_size)\n",
    "    return start_index, end_index\n",
    "\n",
    "def find_peaks_max_inference(x, filter, window, n_peaks):\n",
    "    if filter == 'savgol':\n",
    "        smooth_x = signal.savgol_filter(x, window_length=100, polyorder=2)\n",
    "    elif filter == 'gaussian':\n",
    "        smooth_x = gaussian_filter1d(x, sigma=25)\n",
    "    else:\n",
    "        smooth_x = x\n",
    "\n",
    "    peaks = []\n",
    "    for p in range(n_peaks):\n",
    "        peak = smooth_x.argmax(axis=-1)\n",
    "        for k in range(len(peak)):\n",
    "            s1, s2 = window_around_peak(len(smooth_x[k]), peak[k], window)\n",
    "            smooth_x[k, s1:s2] = 0\n",
    "        peaks.append(peak)\n",
    "    return peaks\n",
    "\n",
    "class AudioDatasetInference(Dataset):\n",
    "    def __init__(\n",
    "            self, \n",
    "            files,\n",
    "            cfg,\n",
    "            targets = None\n",
    "            ):\n",
    "        super(AudioDatasetInference, self).__init__()\n",
    "        self.files = files\n",
    "        self.targets = targets\n",
    "        self.n_classes = cfg.n_classes\n",
    "        self.duration = cfg.duration\n",
    "        self.sample_rate = cfg.sample_rate\n",
    "        self.audio_len = self.duration*self.sample_rate\n",
    "        self.target_length = cfg.target_length\n",
    "        self.n_mels = cfg.n_mels\n",
    "        self.n_fft = cfg.n_fft\n",
    "        self.window = cfg.window\n",
    "        self.hop_length = cfg.hop_length\n",
    "        self.fmin = cfg.fmin\n",
    "        self.fmax = cfg.fmax\n",
    "        self.top_db = cfg.top_db\n",
    "        self.standardize = cfg.standardize\n",
    "        self.mean = cfg.dataset_mean\n",
    "        self.std = cfg.dataset_std\n",
    "        self.n_channels = cfg.n_channels\n",
    "        self.use_1_peak = cfg.use_1_peak\n",
    "        self.use_peaks = cfg.use_peaks\n",
    "        self.peak_filter = cfg.peak_filter\n",
    "        self.n_peaks = cfg.n_peaks\n",
    "\n",
    "        self.to_mel_spectrogramn = torchaudio.transforms.MelSpectrogram(self.sample_rate, n_fft=self.n_fft, win_length=self.window,  \n",
    "                                                 hop_length=self.hop_length, n_mels=self.n_mels, \n",
    "                                                 f_min=self.fmin, f_max=self.fmax)\n",
    "\n",
    "        self.mel_to_db = nn.Sequential(torchaudio.transforms.AmplitudeToDB(top_db=self.top_db))\n",
    "\n",
    "        if self.mean is not None and self.std is not None:\n",
    "            self.mel_to_db.append(v2.Normalize(mean=self.mean, std=self.std))\n",
    "\n",
    "    def __len__(self):\n",
    "        return len(self.files)\n",
    "    \n",
    "    def __getitem__(self, idx):\n",
    "        if self.targets is not None:\n",
    "            label = torch.tensor(self.targets[idx])\n",
    "\n",
    "        file = self.files[idx]\n",
    "        waveform, sr = torchaudio.load(file)\n",
    "        frames = create_frames(waveform)\n",
    "        spec = self.to_mel_spectrogramn(frames)\n",
    "\n",
    "        if self.use_1_peak:\n",
    "            per_frame_energy = spec.sum(dim=-2).squeeze().numpy()\n",
    "            peaks = find_peak_max(per_frame_energy, filter=self.peak_filter)\n",
    "            new_spec = torch.empty((spec.size(0), self.n_channels, self.n_mels, self.target_length))\n",
    "            for p in range(len(peaks)):\n",
    "                start_index, end_index = window_around_peak(per_frame_energy.shape[-1], peaks[p], self.target_length)\n",
    "                new_spec[p] = spec[p,:,:,start_index:end_index]\n",
    "        \n",
    "        elif self.use_peaks:\n",
    "            per_frame_energy = spec.sum(dim=-2).squeeze().numpy()\n",
    "            peaks = find_peaks_max_inference(per_frame_energy, filter=self.peak_filter, \n",
    "                                   window=self.target_length, n_peaks=self.n_peaks)\n",
    "            new_spec = torch.empty((spec.size(0)*self.n_peaks, self.n_channels, self.n_mels, self.target_length))\n",
    "            for k in range(self.n_peaks):\n",
    "                for p in range(len(peaks[k])):\n",
    "                    start_index, end_index = window_around_peak(per_frame_energy.shape[-1], peaks[k][p], self.target_length)\n",
    "                    new_spec[self.n_peaks*p + k%self.n_peaks] = spec[p,:,:,start_index:end_index]\n",
    "\n",
    "        spec = self.mel_to_db(new_spec)\n",
    "\n",
    "        # Standardize\n",
    "        if self.standardize:\n",
    "            spec = (spec - spec.mean()) / spec.std()\n",
    "\n",
    "        # expand to 3 channels for imagenet trained models\n",
    "        if self.n_channels > 1:\n",
    "            if self.use_peaks:\n",
    "                spec = spec.expand(-1,self.n_channels,-1,-1)\n",
    "            else:\n",
    "                spec = spec.expand(self.n_channels,-1,-1)\n",
    "\n",
    "        if self.targets is not None:\n",
    "            return spec, label\n",
    "        else:\n",
    "            return spec, file"
   ]
  },
  {
   "cell_type": "code",
   "execution_count": 5,
   "id": "a6e88595",
   "metadata": {
    "execution": {
     "iopub.execute_input": "2024-06-07T22:47:34.461132Z",
     "iopub.status.busy": "2024-06-07T22:47:34.460630Z",
     "iopub.status.idle": "2024-06-07T22:47:34.491079Z",
     "shell.execute_reply": "2024-06-07T22:47:34.489581Z"
    },
    "papermill": {
     "duration": 0.04346,
     "end_time": "2024-06-07T22:47:34.494354",
     "exception": false,
     "start_time": "2024-06-07T22:47:34.450894",
     "status": "completed"
    },
    "tags": []
   },
   "outputs": [],
   "source": [
    "base_dir = '/kaggle/input/birdclef-2024'\n",
    "train_dir = base_dir + '/train_audio/'\n",
    "test_dir = base_dir + '/test_soundscapes/'\n",
    "unlabeled_dir = base_dir + '/unlabeled_soundscapes/'\n",
    "\n",
    "class_names = sorted(os.listdir(train_dir))\n",
    "n_classes = len(class_names)\n",
    "class_labels = list(range(n_classes))\n",
    "label2name = dict(zip(class_labels, class_names))\n",
    "name2label = {v:k for k,v in label2name.items()}"
   ]
  },
  {
   "cell_type": "code",
   "execution_count": 6,
   "id": "47afa1bf",
   "metadata": {
    "execution": {
     "iopub.execute_input": "2024-06-07T22:47:34.516022Z",
     "iopub.status.busy": "2024-06-07T22:47:34.514694Z",
     "iopub.status.idle": "2024-06-07T22:47:34.699574Z",
     "shell.execute_reply": "2024-06-07T22:47:34.698183Z"
    },
    "papermill": {
     "duration": 0.199086,
     "end_time": "2024-06-07T22:47:34.702546",
     "exception": false,
     "start_time": "2024-06-07T22:47:34.503460",
     "status": "completed"
    },
    "tags": []
   },
   "outputs": [
    {
     "data": {
      "text/html": [
       "<div>\n",
       "<style scoped>\n",
       "    .dataframe tbody tr th:only-of-type {\n",
       "        vertical-align: middle;\n",
       "    }\n",
       "\n",
       "    .dataframe tbody tr th {\n",
       "        vertical-align: top;\n",
       "    }\n",
       "\n",
       "    .dataframe thead th {\n",
       "        text-align: right;\n",
       "    }\n",
       "</style>\n",
       "<table border=\"1\" class=\"dataframe\">\n",
       "  <thead>\n",
       "    <tr style=\"text-align: right;\">\n",
       "      <th></th>\n",
       "      <th>filepath</th>\n",
       "    </tr>\n",
       "  </thead>\n",
       "  <tbody>\n",
       "    <tr>\n",
       "      <th>0</th>\n",
       "      <td>/kaggle/input/birdclef-2024/unlabeled_soundsca...</td>\n",
       "    </tr>\n",
       "    <tr>\n",
       "      <th>1</th>\n",
       "      <td>/kaggle/input/birdclef-2024/unlabeled_soundsca...</td>\n",
       "    </tr>\n",
       "    <tr>\n",
       "      <th>2</th>\n",
       "      <td>/kaggle/input/birdclef-2024/unlabeled_soundsca...</td>\n",
       "    </tr>\n",
       "    <tr>\n",
       "      <th>3</th>\n",
       "      <td>/kaggle/input/birdclef-2024/unlabeled_soundsca...</td>\n",
       "    </tr>\n",
       "    <tr>\n",
       "      <th>4</th>\n",
       "      <td>/kaggle/input/birdclef-2024/unlabeled_soundsca...</td>\n",
       "    </tr>\n",
       "  </tbody>\n",
       "</table>\n",
       "</div>"
      ],
      "text/plain": [
       "                                            filepath\n",
       "0  /kaggle/input/birdclef-2024/unlabeled_soundsca...\n",
       "1  /kaggle/input/birdclef-2024/unlabeled_soundsca...\n",
       "2  /kaggle/input/birdclef-2024/unlabeled_soundsca...\n",
       "3  /kaggle/input/birdclef-2024/unlabeled_soundsca...\n",
       "4  /kaggle/input/birdclef-2024/unlabeled_soundsca..."
      ]
     },
     "execution_count": 6,
     "metadata": {},
     "output_type": "execute_result"
    }
   ],
   "source": [
    "test_paths = glob(base_dir + '/test_soundscapes/*ogg')\n",
    "if len(test_paths)==0:\n",
    "    test_paths = glob(base_dir + '/unlabeled_soundscapes/*ogg')[:10]\n",
    "test_df = pd.DataFrame(test_paths, columns=['filepath'])\n",
    "test_df.head()"
   ]
  },
  {
   "cell_type": "code",
   "execution_count": 7,
   "id": "db412ed7",
   "metadata": {
    "execution": {
     "iopub.execute_input": "2024-06-07T22:47:34.723583Z",
     "iopub.status.busy": "2024-06-07T22:47:34.723158Z",
     "iopub.status.idle": "2024-06-07T22:47:34.855181Z",
     "shell.execute_reply": "2024-06-07T22:47:34.853863Z"
    },
    "papermill": {
     "duration": 0.146043,
     "end_time": "2024-06-07T22:47:34.858237",
     "exception": false,
     "start_time": "2024-06-07T22:47:34.712194",
     "status": "completed"
    },
    "tags": []
   },
   "outputs": [],
   "source": [
    "test_dataset = AudioDatasetInference(\n",
    "    test_df['filepath'].values, \n",
    "    targets=None, \n",
    "    cfg=Config\n",
    "    )"
   ]
  },
  {
   "cell_type": "code",
   "execution_count": 8,
   "id": "b1afc58e",
   "metadata": {
    "execution": {
     "iopub.execute_input": "2024-06-07T22:47:34.878831Z",
     "iopub.status.busy": "2024-06-07T22:47:34.878272Z",
     "iopub.status.idle": "2024-06-07T22:47:34.889568Z",
     "shell.execute_reply": "2024-06-07T22:47:34.888236Z"
    },
    "papermill": {
     "duration": 0.025144,
     "end_time": "2024-06-07T22:47:34.892283",
     "exception": false,
     "start_time": "2024-06-07T22:47:34.867139",
     "status": "completed"
    },
    "tags": []
   },
   "outputs": [
    {
     "data": {
      "text/plain": [
       "'if Config.multithreading:\\n    def predict(dataset, model, loss):\\n        ids = []\\n        preds = np.empty(shape=(0, n_classes), dtype=\\'float32\\')\\n        output_layer = model.output(0)\\n        if loss == \\'crossentropy\\':\\n            final_activation = partial(scipy.special.softmax, axis=1)\\n        elif loss == \\'bce\\':\\n            final_activation = scipy.special.expit\\n\\n        for i in range(len(dataset)):\\n            specs, file = dataset[i]\\n            filename = file.split(\\'/\\')[-1][:-4]\\n\\n            outs = model([specs])[output_layer]\\n            outs = final_activation(outs)\\n\\n            frame_ids = [f\\'{filename}_{(frame_id+1)*5}\\' for frame_id in range(len(specs))]\\n            ids += frame_ids\\n\\n            preds = np.concatenate([preds, outs], axis=0)\\n\\n        return preds, ids\\n\\n    def run_prediction(data_loader, model_id):\\n        core = ov.Core()\\n        checkpoint_ov = Config.ensemble_checkpoints[model_id] + \\'/checkpoint.xml\\'\\n        loss = Config.ensemble_losses[model_id]\\n        config = {hints.performance_mode: hints.PerformanceMode.THROUGHPUT}\\n        model = core.compile_model(checkpoint_ov, \"CPU\", config)\\n        \\n        preds, ids = predict(data_loader, model, loss)\\n        del core, model, loss\\n        gc.collect()\\n        \\n        print(f\"Done model {model_id}\")\\n        return preds, ids\\n\\n    def helper(inputs):\\n        return run_prediction(inputs[0], inputs[1])\\n\\n\\n    start=time.time()\\n    \\n    audios = [(test_dataset, model_id) for model_id in range(len(Config.ensemble_checkpoints))]\\n    ensemble_preds = []\\n    with futures.ThreadPoolExecutor(max_workers=10) as executor:\\n        for preds, ids in executor.map(helper, audios):\\n            ensemble_preds.append(preds)\\n    ensemble_preds = np.array(ensemble_preds)\\n    ensemble_preds = ensemble_preds.mean(axis=0)\\n    #ensemble_preds = (ensemble_preds**2).mean(axis=0) ** 0.5\\n    preds = ensemble_preds\\n\\n    print(time.time()-start)'"
      ]
     },
     "execution_count": 8,
     "metadata": {},
     "output_type": "execute_result"
    }
   ],
   "source": [
    "\"\"\"if Config.multithreading:\n",
    "    def predict(dataset, model, loss):\n",
    "        ids = []\n",
    "        preds = np.empty(shape=(0, n_classes), dtype='float32')\n",
    "        output_layer = model.output(0)\n",
    "        if loss == 'crossentropy':\n",
    "            final_activation = partial(scipy.special.softmax, axis=1)\n",
    "        elif loss == 'bce':\n",
    "            final_activation = scipy.special.expit\n",
    "\n",
    "        for i in range(len(dataset)):\n",
    "            specs, file = dataset[i]\n",
    "            filename = file.split('/')[-1][:-4]\n",
    "\n",
    "            outs = model([specs])[output_layer]\n",
    "            outs = final_activation(outs)\n",
    "\n",
    "            frame_ids = [f'{filename}_{(frame_id+1)*5}' for frame_id in range(len(specs))]\n",
    "            ids += frame_ids\n",
    "\n",
    "            preds = np.concatenate([preds, outs], axis=0)\n",
    "\n",
    "        return preds, ids\n",
    "\n",
    "    def run_prediction(data_loader, model_id):\n",
    "        core = ov.Core()\n",
    "        checkpoint_ov = Config.ensemble_checkpoints[model_id] + '/checkpoint.xml'\n",
    "        loss = Config.ensemble_losses[model_id]\n",
    "        config = {hints.performance_mode: hints.PerformanceMode.THROUGHPUT}\n",
    "        model = core.compile_model(checkpoint_ov, \"CPU\", config)\n",
    "        \n",
    "        preds, ids = predict(data_loader, model, loss)\n",
    "        del core, model, loss\n",
    "        gc.collect()\n",
    "        \n",
    "        print(f\"Done model {model_id}\")\n",
    "        return preds, ids\n",
    "\n",
    "    def helper(inputs):\n",
    "        return run_prediction(inputs[0], inputs[1])\n",
    "\n",
    "\n",
    "    start=time.time()\n",
    "    \n",
    "    audios = [(test_dataset, model_id) for model_id in range(len(Config.ensemble_checkpoints))]\n",
    "    ensemble_preds = []\n",
    "    with futures.ThreadPoolExecutor(max_workers=10) as executor:\n",
    "        for preds, ids in executor.map(helper, audios):\n",
    "            ensemble_preds.append(preds)\n",
    "    ensemble_preds = np.array(ensemble_preds)\n",
    "    ensemble_preds = ensemble_preds.mean(axis=0)\n",
    "    #ensemble_preds = (ensemble_preds**2).mean(axis=0) ** 0.5\n",
    "    preds = ensemble_preds\n",
    "\n",
    "    print(time.time()-start)\"\"\""
   ]
  },
  {
   "cell_type": "code",
   "execution_count": 9,
   "id": "f3a54209",
   "metadata": {
    "execution": {
     "iopub.execute_input": "2024-06-07T22:47:34.913535Z",
     "iopub.status.busy": "2024-06-07T22:47:34.912694Z",
     "iopub.status.idle": "2024-06-07T22:47:34.931485Z",
     "shell.execute_reply": "2024-06-07T22:47:34.930261Z"
    },
    "papermill": {
     "duration": 0.033372,
     "end_time": "2024-06-07T22:47:34.934512",
     "exception": false,
     "start_time": "2024-06-07T22:47:34.901140",
     "status": "completed"
    },
    "tags": []
   },
   "outputs": [],
   "source": [
    "if Config.multithreading:\n",
    "    def predict(specs, infer_request, final_activation):\n",
    "        sample_preds = np.empty(shape=(0, n_classes), dtype='float32')\n",
    "        start_time = time.time()\n",
    "        outs = infer_request.infer([specs])[0]\n",
    "        outs = final_activation(outs)\n",
    "        model_time = time.time()-start_time\n",
    "        sample_preds = np.concatenate([sample_preds, outs], axis=0)\n",
    "        return sample_preds, model_time\n",
    "\n",
    "    def helper(inputs):\n",
    "        return predict(inputs[0], inputs[1], inputs[2])\n",
    "\n",
    "    \n",
    "    def get_model(model_id):\n",
    "        core = ov.Core()\n",
    "        checkpoint_ov = Config.ensemble_checkpoints[model_id] + '/checkpoint.xml'\n",
    "        loss = Config.ensemble_losses[model_id]\n",
    "        config = {hints.performance_mode: hints.PerformanceMode.THROUGHPUT}\n",
    "        model = core.compile_model(checkpoint_ov, \"CPU\", config)\n",
    "        infer_request = model.create_infer_request()\n",
    "        return infer_request\n",
    "    \n",
    "    def get_final_activation(model_id):\n",
    "        loss = Config.ensemble_losses[model_id]\n",
    "        if loss == 'crossentropy':\n",
    "            final_activation = partial(scipy.special.softmax, axis=1)\n",
    "        elif loss == 'bce':\n",
    "            final_activation = scipy.special.expit\n",
    "        return final_activation\n",
    "        \n",
    "\n",
    "    start=time.time()\n",
    "\n",
    "    models = [get_model(model_id) for model_id in range(len(Config.ensemble_checkpoints))]\n",
    "    f_activations = [get_final_activation(model_id) for model_id in range(len(Config.ensemble_checkpoints))]\n",
    "    \n",
    "    preds = np.empty(shape=(0, n_classes), dtype='float32')\n",
    "    ids = []\n",
    "    ensemble_preds = np.empty(shape=(0, n_classes), dtype='float32')\n",
    "    for i in range(len(test_dataset)):\n",
    "        specs, file = test_dataset[i]\n",
    "        filename = file.split('/')[-1][:-4]\n",
    "        frame_ids = [f'{filename}_{(frame_id+1)*5}' for frame_id in range(len(specs))]\n",
    "        ids += frame_ids\n",
    "        \n",
    "        ensemble_preds = []\n",
    "        list_inputs = [(specs, models[k], f_activations[k]) for k in range(len(models))]\n",
    "        with futures.ThreadPoolExecutor(max_workers=len(Config.ensemble_checkpoints)) as executor:\n",
    "            for sample_preds, model_time in executor.map(helper, list_inputs):\n",
    "                ensemble_preds.append(sample_preds)\n",
    "                #print('model', model_time)\n",
    "        ensemble_preds = np.array(ensemble_preds)\n",
    "        #ensemble_preds = ensemble_preds.mean(axis=0)\n",
    "        ensemble_preds = (ensemble_preds**2).mean(axis=0) ** 0.5\n",
    "        preds = np.concatenate([preds, ensemble_preds], axis=0)\n",
    "\n",
    "    print(time.time()-start)"
   ]
  },
  {
   "cell_type": "code",
   "execution_count": 10,
   "id": "88f40f68",
   "metadata": {
    "execution": {
     "iopub.execute_input": "2024-06-07T22:47:34.955222Z",
     "iopub.status.busy": "2024-06-07T22:47:34.954795Z",
     "iopub.status.idle": "2024-06-07T22:48:47.469107Z",
     "shell.execute_reply": "2024-06-07T22:48:47.467818Z"
    },
    "papermill": {
     "duration": 72.530202,
     "end_time": "2024-06-07T22:48:47.473533",
     "exception": false,
     "start_time": "2024-06-07T22:47:34.943331",
     "status": "completed"
    },
    "tags": []
   },
   "outputs": [
    {
     "name": "stderr",
     "output_type": "stream",
     "text": [
      "  0%|          | 0/10 [00:00<?, ?it/s]mbind failed: Operation not permitted\n",
      " 10%|█         | 1/10 [00:08<01:19,  8.87s/it]mbind failed: Operation not permitted\n",
      "100%|██████████| 10/10 [01:11<00:00,  7.16s/it]"
     ]
    },
    {
     "name": "stdout",
     "output_type": "stream",
     "text": [
      "72.4986264705658\n"
     ]
    },
    {
     "name": "stderr",
     "output_type": "stream",
     "text": [
      "\n"
     ]
    }
   ],
   "source": [
    "if Config.use_openvino:\n",
    "    start=time.time()\n",
    "    \n",
    "    checkpoint_ov = Config.checkpoint_dir + '/checkpoint.xml'\n",
    "    config = {hints.performance_mode: hints.PerformanceMode.THROUGHPUT}\n",
    "    core = ov.Core()\n",
    "    model = core.compile_model(checkpoint_ov, \"AUTO\", config)\n",
    "\n",
    "    #Peaks\n",
    "    peaks_weights = np.array([1/Config.n_peaks*k for k in range(Config.n_peaks,0,-1)])[None,:,None]\n",
    "    n_peaks = Config.n_peaks if Config.use_peaks else 1\n",
    "\n",
    "    ids = []\n",
    "    preds = np.empty(shape=(0, n_classes), dtype='float32')\n",
    "    output_layer = model.output(0)\n",
    "    if Config.loss == 'crossentropy':\n",
    "        final_activation = partial(scipy.special.softmax, axis=1)\n",
    "    elif Config.loss == 'bce':\n",
    "        final_activation = scipy.special.expit\n",
    "\n",
    "    test_iter = tqdm(range(len(test_dataset)))\n",
    "    for i in test_iter:\n",
    "        #start_sample_time = time.time()\n",
    "        specs, file = test_dataset[i]\n",
    "        filename = file.split('/')[-1][:-4]\n",
    "        #data_time = time.time()\n",
    "        #print(\"data\", data_time-start_sample_time)\n",
    "        \n",
    "        outs = model([specs])[output_layer]\n",
    "        outs = final_activation(outs)\n",
    "        #model_time = time.time()\n",
    "        #print(\"model\", model_time-data_time)\n",
    "        \n",
    "        frame_ids = [f'{filename}_{(frame_id+1)*5}' for frame_id in range(len(specs)//Config.n_peaks)]\n",
    "        ids += frame_ids\n",
    "        \n",
    "        if Config.use_peaks:\n",
    "            outs = outs.reshape((len(specs)//Config.n_peaks, Config.n_peaks, -1))\n",
    "            outs = (outs*peaks_weights).mean(1)\n",
    "        preds = np.concatenate([preds, outs], axis=0)\n",
    "        #end_time = time.time()\n",
    "        #print(\"end\", end_time-model_time)\n",
    "\n",
    "    print(time.time()-start)"
   ]
  },
  {
   "cell_type": "code",
   "execution_count": 11,
   "id": "987873dc",
   "metadata": {
    "execution": {
     "iopub.execute_input": "2024-06-07T22:48:47.496918Z",
     "iopub.status.busy": "2024-06-07T22:48:47.496396Z",
     "iopub.status.idle": "2024-06-07T22:48:47.876203Z",
     "shell.execute_reply": "2024-06-07T22:48:47.874827Z"
    },
    "papermill": {
     "duration": 0.395776,
     "end_time": "2024-06-07T22:48:47.879761",
     "exception": false,
     "start_time": "2024-06-07T22:48:47.483985",
     "status": "completed"
    },
    "tags": []
   },
   "outputs": [],
   "source": [
    "# Submit prediction\n",
    "pred_df = pd.DataFrame(ids, columns=['row_id'])\n",
    "pred_df.loc[:, class_names] = preds\n",
    "pred_df.to_csv('submission.csv',index=False)"
   ]
  },
  {
   "cell_type": "code",
   "execution_count": null,
   "id": "35753b54",
   "metadata": {
    "papermill": {
     "duration": 0.010474,
     "end_time": "2024-06-07T22:48:47.900914",
     "exception": false,
     "start_time": "2024-06-07T22:48:47.890440",
     "status": "completed"
    },
    "tags": []
   },
   "outputs": [],
   "source": []
  }
 ],
 "metadata": {
  "kaggle": {
   "accelerator": "none",
   "dataSources": [
    {
     "databundleVersionId": 8068726,
     "sourceId": 70203,
     "sourceType": "competition"
    },
    {
     "datasetId": 4974926,
     "sourceId": 8368720,
     "sourceType": "datasetVersion"
    },
    {
     "modelInstanceId": 36931,
     "sourceId": 43978,
     "sourceType": "modelInstanceVersion"
    },
    {
     "modelInstanceId": 37353,
     "sourceId": 44462,
     "sourceType": "modelInstanceVersion"
    },
    {
     "modelInstanceId": 38405,
     "sourceId": 45806,
     "sourceType": "modelInstanceVersion"
    },
    {
     "modelInstanceId": 38419,
     "sourceId": 45820,
     "sourceType": "modelInstanceVersion"
    },
    {
     "modelInstanceId": 38589,
     "sourceId": 46032,
     "sourceType": "modelInstanceVersion"
    },
    {
     "modelInstanceId": 38914,
     "sourceId": 46428,
     "sourceType": "modelInstanceVersion"
    },
    {
     "modelInstanceId": 38919,
     "sourceId": 46436,
     "sourceType": "modelInstanceVersion"
    },
    {
     "modelInstanceId": 38921,
     "sourceId": 46438,
     "sourceType": "modelInstanceVersion"
    },
    {
     "modelInstanceId": 39720,
     "sourceId": 47444,
     "sourceType": "modelInstanceVersion"
    },
    {
     "modelInstanceId": 39722,
     "sourceId": 47446,
     "sourceType": "modelInstanceVersion"
    },
    {
     "modelInstanceId": 40135,
     "sourceId": 47961,
     "sourceType": "modelInstanceVersion"
    },
    {
     "modelInstanceId": 40164,
     "sourceId": 47997,
     "sourceType": "modelInstanceVersion"
    },
    {
     "modelInstanceId": 40580,
     "sourceId": 48508,
     "sourceType": "modelInstanceVersion"
    },
    {
     "modelInstanceId": 40584,
     "sourceId": 48512,
     "sourceType": "modelInstanceVersion"
    },
    {
     "modelInstanceId": 40863,
     "sourceId": 48874,
     "sourceType": "modelInstanceVersion"
    },
    {
     "modelInstanceId": 46578,
     "sourceId": 55385,
     "sourceType": "modelInstanceVersion"
    },
    {
     "modelInstanceId": 46579,
     "sourceId": 55386,
     "sourceType": "modelInstanceVersion"
    },
    {
     "modelInstanceId": 46580,
     "sourceId": 55387,
     "sourceType": "modelInstanceVersion"
    },
    {
     "modelInstanceId": 46581,
     "sourceId": 55388,
     "sourceType": "modelInstanceVersion"
    },
    {
     "modelInstanceId": 46582,
     "sourceId": 55389,
     "sourceType": "modelInstanceVersion"
    },
    {
     "modelInstanceId": 46952,
     "sourceId": 55874,
     "sourceType": "modelInstanceVersion"
    },
    {
     "modelInstanceId": 47147,
     "sourceId": 56128,
     "sourceType": "modelInstanceVersion"
    },
    {
     "modelInstanceId": 47149,
     "sourceId": 56130,
     "sourceType": "modelInstanceVersion"
    },
    {
     "modelInstanceId": 47151,
     "sourceId": 56132,
     "sourceType": "modelInstanceVersion"
    },
    {
     "modelInstanceId": 48404,
     "sourceId": 57712,
     "sourceType": "modelInstanceVersion"
    },
    {
     "modelInstanceId": 48405,
     "sourceId": 57713,
     "sourceType": "modelInstanceVersion"
    },
    {
     "modelInstanceId": 48745,
     "sourceId": 58148,
     "sourceType": "modelInstanceVersion"
    },
    {
     "modelInstanceId": 48746,
     "sourceId": 58149,
     "sourceType": "modelInstanceVersion"
    },
    {
     "modelInstanceId": 48747,
     "sourceId": 58150,
     "sourceType": "modelInstanceVersion"
    },
    {
     "modelInstanceId": 48748,
     "sourceId": 58151,
     "sourceType": "modelInstanceVersion"
    },
    {
     "modelInstanceId": 48749,
     "sourceId": 58152,
     "sourceType": "modelInstanceVersion"
    },
    {
     "modelInstanceId": 49140,
     "sourceId": 58670,
     "sourceType": "modelInstanceVersion"
    },
    {
     "modelInstanceId": 49380,
     "sourceId": 58975,
     "sourceType": "modelInstanceVersion"
    },
    {
     "modelInstanceId": 49382,
     "sourceId": 58977,
     "sourceType": "modelInstanceVersion"
    },
    {
     "modelInstanceId": 49383,
     "sourceId": 58978,
     "sourceType": "modelInstanceVersion"
    },
    {
     "modelInstanceId": 49385,
     "sourceId": 58980,
     "sourceType": "modelInstanceVersion"
    },
    {
     "modelInstanceId": 49621,
     "sourceId": 59297,
     "sourceType": "modelInstanceVersion"
    },
    {
     "modelInstanceId": 49622,
     "sourceId": 59298,
     "sourceType": "modelInstanceVersion"
    },
    {
     "modelInstanceId": 49623,
     "sourceId": 59299,
     "sourceType": "modelInstanceVersion"
    },
    {
     "modelInstanceId": 50485,
     "sourceId": 60361,
     "sourceType": "modelInstanceVersion"
    },
    {
     "modelInstanceId": 50487,
     "sourceId": 60363,
     "sourceType": "modelInstanceVersion"
    },
    {
     "modelInstanceId": 50488,
     "sourceId": 60364,
     "sourceType": "modelInstanceVersion"
    },
    {
     "modelInstanceId": 50489,
     "sourceId": 60365,
     "sourceType": "modelInstanceVersion"
    },
    {
     "modelInstanceId": 50490,
     "sourceId": 60366,
     "sourceType": "modelInstanceVersion"
    },
    {
     "modelInstanceId": 50847,
     "sourceId": 60807,
     "sourceType": "modelInstanceVersion"
    },
    {
     "modelInstanceId": 50848,
     "sourceId": 60808,
     "sourceType": "modelInstanceVersion"
    },
    {
     "modelInstanceId": 50849,
     "sourceId": 60809,
     "sourceType": "modelInstanceVersion"
    },
    {
     "isSourceIdPinned": true,
     "modelInstanceId": 50851,
     "sourceId": 60811,
     "sourceType": "modelInstanceVersion"
    },
    {
     "isSourceIdPinned": true,
     "modelInstanceId": 50852,
     "sourceId": 60812,
     "sourceType": "modelInstanceVersion"
    },
    {
     "isSourceIdPinned": true,
     "modelInstanceId": 50853,
     "sourceId": 60813,
     "sourceType": "modelInstanceVersion"
    },
    {
     "isSourceIdPinned": true,
     "modelInstanceId": 51820,
     "sourceId": 62033,
     "sourceType": "modelInstanceVersion"
    },
    {
     "isSourceIdPinned": true,
     "modelInstanceId": 52271,
     "sourceId": 62601,
     "sourceType": "modelInstanceVersion"
    },
    {
     "isSourceIdPinned": true,
     "modelInstanceId": 52272,
     "sourceId": 62602,
     "sourceType": "modelInstanceVersion"
    }
   ],
   "dockerImageVersionId": 30698,
   "isGpuEnabled": false,
   "isInternetEnabled": false,
   "language": "python",
   "sourceType": "notebook"
  },
  "kernelspec": {
   "display_name": "Python 3",
   "language": "python",
   "name": "python3"
  },
  "language_info": {
   "codemirror_mode": {
    "name": "ipython",
    "version": 3
   },
   "file_extension": ".py",
   "mimetype": "text/x-python",
   "name": "python",
   "nbconvert_exporter": "python",
   "pygments_lexer": "ipython3",
   "version": "3.10.13"
  },
  "papermill": {
   "default_parameters": {},
   "duration": 114.82566,
   "end_time": "2024-06-07T22:48:50.778907",
   "environment_variables": {},
   "exception": null,
   "input_path": "__notebook__.ipynb",
   "output_path": "__notebook__.ipynb",
   "parameters": {},
   "start_time": "2024-06-07T22:46:55.953247",
   "version": "2.5.0"
  }
 },
 "nbformat": 4,
 "nbformat_minor": 5
}
