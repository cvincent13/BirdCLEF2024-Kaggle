{
 "cells": [
  {
   "cell_type": "code",
   "execution_count": 1,
   "id": "e8a466be",
   "metadata": {
    "execution": {
     "iopub.execute_input": "2024-06-09T22:05:51.527353Z",
     "iopub.status.busy": "2024-06-09T22:05:51.526940Z",
     "iopub.status.idle": "2024-06-09T22:06:07.988640Z",
     "shell.execute_reply": "2024-06-09T22:06:07.987217Z"
    },
    "papermill": {
     "duration": 16.473121,
     "end_time": "2024-06-09T22:06:07.991609",
     "exception": false,
     "start_time": "2024-06-09T22:05:51.518488",
     "status": "completed"
    },
    "tags": []
   },
   "outputs": [
    {
     "name": "stdout",
     "output_type": "stream",
     "text": [
      "Looking in links: /kaggle/input/pip-wheels-birds\r\n",
      "Processing /kaggle/input/pip-wheels-birds/openvino-2024.1.0-15008-cp310-cp310-manylinux2014_x86_64.whl\r\n",
      "Requirement already satisfied: numpy<2.0.0,>=1.16.6 in /opt/conda/lib/python3.10/site-packages (from openvino==2024.1.0) (1.26.4)\r\n",
      "Processing /kaggle/input/pip-wheels-birds/openvino_telemetry-2024.1.0-py3-none-any.whl (from openvino==2024.1.0)\r\n",
      "Requirement already satisfied: packaging in /opt/conda/lib/python3.10/site-packages (from openvino==2024.1.0) (21.3)\r\n",
      "Requirement already satisfied: pyparsing!=3.0.5,>=2.0.2 in /opt/conda/lib/python3.10/site-packages (from packaging->openvino==2024.1.0) (3.1.1)\r\n",
      "Installing collected packages: openvino-telemetry, openvino\r\n",
      "Successfully installed openvino-2024.1.0 openvino-telemetry-2024.1.0\r\n"
     ]
    }
   ],
   "source": [
    "!pip install /kaggle/input/pip-wheels-birds/openvino-2024.1.0-15008-cp310-cp310-manylinux2014_x86_64.whl --no-index --find-links /kaggle/input/pip-wheels-birds"
   ]
  },
  {
   "cell_type": "code",
   "execution_count": 2,
   "id": "aeff0c50",
   "metadata": {
    "execution": {
     "iopub.execute_input": "2024-06-09T22:06:08.008316Z",
     "iopub.status.busy": "2024-06-09T22:06:08.007827Z",
     "iopub.status.idle": "2024-06-09T22:06:18.346753Z",
     "shell.execute_reply": "2024-06-09T22:06:18.345501Z"
    },
    "papermill": {
     "duration": 10.350877,
     "end_time": "2024-06-09T22:06:18.349491",
     "exception": false,
     "start_time": "2024-06-09T22:06:07.998614",
     "status": "completed"
    },
    "tags": []
   },
   "outputs": [],
   "source": [
    "import numpy as np\n",
    "import torch\n",
    "import torch.nn as nn\n",
    "import torchaudio\n",
    "import pandas as pd\n",
    "import os\n",
    "import gc\n",
    "from tqdm import tqdm\n",
    "from glob import glob\n",
    "import time\n",
    "import scipy\n",
    "from functools import partial\n",
    "\n",
    "import torch.jit as jit\n",
    "from torch.utils.data import Dataset, DataLoader\n",
    "from torchvision.transforms import v2\n",
    "from torchvision.models import get_model\n",
    "import timm\n",
    "\n",
    "import openvino as ov\n",
    "import openvino.properties as props\n",
    "import openvino.properties.hint as hints\n",
    "from concurrent import futures"
   ]
  },
  {
   "cell_type": "code",
   "execution_count": 3,
   "id": "2e0e372a",
   "metadata": {
    "execution": {
     "iopub.execute_input": "2024-06-09T22:06:18.364587Z",
     "iopub.status.busy": "2024-06-09T22:06:18.364188Z",
     "iopub.status.idle": "2024-06-09T22:06:18.373344Z",
     "shell.execute_reply": "2024-06-09T22:06:18.372056Z"
    },
    "papermill": {
     "duration": 0.019628,
     "end_time": "2024-06-09T22:06:18.375769",
     "exception": false,
     "start_time": "2024-06-09T22:06:18.356141",
     "status": "completed"
    },
    "tags": []
   },
   "outputs": [],
   "source": [
    "class Config:\n",
    "    duration = 5\n",
    "    sample_rate = 32000\n",
    "    target_length = 384 #384\n",
    "    n_mels = 128 #128\n",
    "    n_fft = 1024\n",
    "    window = 800\n",
    "    audio_len = duration*sample_rate\n",
    "    hop_length = audio_len // (target_length-1)\n",
    "    fmin = 50 #!!!!!!!!!!!!!!!!!\n",
    "    fmax = 16000\n",
    "    top_db = 80\n",
    "\n",
    "    n_classes = 182\n",
    "    n_channels = 1 #!!!!!!!!!!!\n",
    "    \n",
    "    use_openvino = False\n",
    "    multithreading = True\n",
    "    checkpoint_dir = '/kaggle/input/mn-30-full/other/06-08_11-25_128x384_mn30_as_exp-gemsed_pretrained_mixup/1'\n",
    "    loss = 'crossentropy'\n",
    "    ensemble_checkpoints = ['/kaggle/input/mn-30-full/other/06-05_03-55_128x384_mn30_as_exp-gemsed_mixup_big/1',\n",
    "                            '/kaggle/input/mn-20/other/2024-06-04_15-18-43_gemsed_mixup/1',\n",
    "                            '/kaggle/input/mn-20/other/2024-06-03_04-43-52_mheadgemsed/1',\n",
    "                            #'/kaggle/input/mn-20/other/2024-06-04_13-50-39_mheadgemsed_mixup/1',\n",
    "                            #'/kaggle/input/mn-20/other/2024-06-03_09-14-08_msmheadgemsed/1',\n",
    "                            #'/kaggle/input/mn-20/other/2024-06-03_03-22-49_msgemsed/1'\n",
    "                            #'/kaggle/input/mn-20/other/2024-05-29_10-17-54_att-128-384/1',\n",
    "                            #'/kaggle/input/mn-20/other/2024-05-29_10-17-54_att-128-384/1',\n",
    "                            #'/kaggle/input/mn-20/other/2024-05-29_10-17-54_att-128-384/1',\n",
    "                            #'/kaggle/input/mn-20/other/2024-05-29_10-17-54_att-128-384/1',\n",
    "                            #'/kaggle/input/mn-20/other/2024-05-29_10-17-54_att-128-384/1'\n",
    "                           ]\n",
    "    ensemble_losses = ['crossentropy', 'crossentropy', 'crossentropy', 'crossentropy', 'crossentropy',\n",
    "                       'crossentropy', 'crossentropy', 'crossentropy', 'crossentropy', 'crossentropy']\n",
    "    ensemble_weights = [1,1,1,1,1]\n",
    "    ensemble_normstats = ['old', 'old', 'old', 'old', 'old', 'new']\n",
    "\n",
    "    standardize = False\n",
    "    dataset_mean = [-16.8828]  #[-16.8828] [-22.9137]\n",
    "    dataset_std = [12.4019]  #[12.4019] [11.8739]"
   ]
  },
  {
   "cell_type": "code",
   "execution_count": 4,
   "id": "c3599bf3",
   "metadata": {
    "execution": {
     "iopub.execute_input": "2024-06-09T22:06:18.390701Z",
     "iopub.status.busy": "2024-06-09T22:06:18.390278Z",
     "iopub.status.idle": "2024-06-09T22:06:18.403582Z",
     "shell.execute_reply": "2024-06-09T22:06:18.402348Z"
    },
    "papermill": {
     "duration": 0.023723,
     "end_time": "2024-06-09T22:06:18.405942",
     "exception": false,
     "start_time": "2024-06-09T22:06:18.382219",
     "status": "completed"
    },
    "tags": []
   },
   "outputs": [],
   "source": [
    "def create_frames(waveform, duration=5, sr=32000):\n",
    "    frame_size = int(duration * sr)\n",
    "    surplus = waveform.size(-1)%frame_size\n",
    "    if surplus > 0:\n",
    "        waveform = waveform[:, :-surplus]\n",
    "    frames = waveform.view(-1, 1, frame_size)\n",
    "    return frames\n",
    "\n",
    "class AudioDatasetInference(Dataset):\n",
    "    def __init__(\n",
    "            self, \n",
    "            files,\n",
    "            targets = None, \n",
    "            n_classes = 182,\n",
    "            duration = 5,\n",
    "            sample_rate = 32000,\n",
    "            target_length = 384,\n",
    "            n_mels = 128,\n",
    "            n_fft = 2028,\n",
    "            window = 2028,\n",
    "            hop_length = None,\n",
    "            fmin = 20,\n",
    "            fmax = 16000,\n",
    "            top_db = 80,\n",
    "            standardize=True,\n",
    "            mean=None,\n",
    "            std=None\n",
    "            ):\n",
    "        super(AudioDatasetInference, self).__init__()\n",
    "        self.files = files\n",
    "        self.targets = targets\n",
    "        self.n_classes = n_classes\n",
    "        self.duration = duration\n",
    "        self.sample_rate = sample_rate\n",
    "        self.audio_len = duration*sample_rate\n",
    "        self.target_length = target_length\n",
    "        self.n_mels = n_mels\n",
    "        self.n_fft = n_fft\n",
    "        self.window = window\n",
    "        self.hop_length = self.audio_len // (target_length-1) if not hop_length else hop_length\n",
    "        self.fmin = fmin\n",
    "        self.fmax = fmax\n",
    "        self.top_db = top_db\n",
    "        self.standardize = standardize\n",
    "\n",
    "        self.to_mel_spectrogramn = nn.Sequential(\n",
    "            torchaudio.transforms.MelSpectrogram(self.sample_rate, n_fft=self.n_fft, win_length=self.window,  \n",
    "                                                 hop_length=self.hop_length, n_mels=self.n_mels, \n",
    "                                                 f_min=self.fmin, f_max=self.fmax),\n",
    "            torchaudio.transforms.AmplitudeToDB(top_db=self.top_db)\n",
    "        )\n",
    "        #if mean is not None:\n",
    "        #    self.to_mel_spectrogramn.append(v2.Normalize(mean=mean, std=std))\n",
    "\n",
    "    def __len__(self):\n",
    "        return len(self.files)\n",
    "    \n",
    "    def __getitem__(self, idx):\n",
    "        if self.targets is not None:\n",
    "            label = torch.tensor(self.targets[idx])\n",
    "\n",
    "        file = self.files[idx]\n",
    "        waveform, sr = torchaudio.load(file)\n",
    "        frames = create_frames(waveform)\n",
    "        spec = self.to_mel_spectrogramn(frames)\n",
    "\n",
    "        if self.targets is not None:\n",
    "            return spec, label\n",
    "        else:\n",
    "            return spec, file"
   ]
  },
  {
   "cell_type": "code",
   "execution_count": 5,
   "id": "7750e7b7",
   "metadata": {
    "execution": {
     "iopub.execute_input": "2024-06-09T22:06:18.421031Z",
     "iopub.status.busy": "2024-06-09T22:06:18.420101Z",
     "iopub.status.idle": "2024-06-09T22:06:18.442353Z",
     "shell.execute_reply": "2024-06-09T22:06:18.441019Z"
    },
    "papermill": {
     "duration": 0.032748,
     "end_time": "2024-06-09T22:06:18.445013",
     "exception": false,
     "start_time": "2024-06-09T22:06:18.412265",
     "status": "completed"
    },
    "tags": []
   },
   "outputs": [],
   "source": [
    "base_dir = '/kaggle/input/birdclef-2024'\n",
    "train_dir = base_dir + '/train_audio/'\n",
    "test_dir = base_dir + '/test_soundscapes/'\n",
    "unlabeled_dir = base_dir + '/unlabeled_soundscapes/'\n",
    "\n",
    "class_names = sorted(os.listdir(train_dir))\n",
    "n_classes = len(class_names)\n",
    "class_labels = list(range(n_classes))\n",
    "label2name = dict(zip(class_labels, class_names))\n",
    "name2label = {v:k for k,v in label2name.items()}"
   ]
  },
  {
   "cell_type": "code",
   "execution_count": 6,
   "id": "1a3ff20e",
   "metadata": {
    "execution": {
     "iopub.execute_input": "2024-06-09T22:06:18.460004Z",
     "iopub.status.busy": "2024-06-09T22:06:18.459084Z",
     "iopub.status.idle": "2024-06-09T22:06:18.613350Z",
     "shell.execute_reply": "2024-06-09T22:06:18.612382Z"
    },
    "papermill": {
     "duration": 0.164132,
     "end_time": "2024-06-09T22:06:18.615661",
     "exception": false,
     "start_time": "2024-06-09T22:06:18.451529",
     "status": "completed"
    },
    "tags": []
   },
   "outputs": [
    {
     "data": {
      "text/html": [
       "<div>\n",
       "<style scoped>\n",
       "    .dataframe tbody tr th:only-of-type {\n",
       "        vertical-align: middle;\n",
       "    }\n",
       "\n",
       "    .dataframe tbody tr th {\n",
       "        vertical-align: top;\n",
       "    }\n",
       "\n",
       "    .dataframe thead th {\n",
       "        text-align: right;\n",
       "    }\n",
       "</style>\n",
       "<table border=\"1\" class=\"dataframe\">\n",
       "  <thead>\n",
       "    <tr style=\"text-align: right;\">\n",
       "      <th></th>\n",
       "      <th>filepath</th>\n",
       "    </tr>\n",
       "  </thead>\n",
       "  <tbody>\n",
       "    <tr>\n",
       "      <th>0</th>\n",
       "      <td>/kaggle/input/birdclef-2024/unlabeled_soundsca...</td>\n",
       "    </tr>\n",
       "    <tr>\n",
       "      <th>1</th>\n",
       "      <td>/kaggle/input/birdclef-2024/unlabeled_soundsca...</td>\n",
       "    </tr>\n",
       "    <tr>\n",
       "      <th>2</th>\n",
       "      <td>/kaggle/input/birdclef-2024/unlabeled_soundsca...</td>\n",
       "    </tr>\n",
       "    <tr>\n",
       "      <th>3</th>\n",
       "      <td>/kaggle/input/birdclef-2024/unlabeled_soundsca...</td>\n",
       "    </tr>\n",
       "    <tr>\n",
       "      <th>4</th>\n",
       "      <td>/kaggle/input/birdclef-2024/unlabeled_soundsca...</td>\n",
       "    </tr>\n",
       "  </tbody>\n",
       "</table>\n",
       "</div>"
      ],
      "text/plain": [
       "                                            filepath\n",
       "0  /kaggle/input/birdclef-2024/unlabeled_soundsca...\n",
       "1  /kaggle/input/birdclef-2024/unlabeled_soundsca...\n",
       "2  /kaggle/input/birdclef-2024/unlabeled_soundsca...\n",
       "3  /kaggle/input/birdclef-2024/unlabeled_soundsca...\n",
       "4  /kaggle/input/birdclef-2024/unlabeled_soundsca..."
      ]
     },
     "execution_count": 6,
     "metadata": {},
     "output_type": "execute_result"
    }
   ],
   "source": [
    "test_paths = glob(base_dir + '/test_soundscapes/*ogg')\n",
    "if len(test_paths)==0:\n",
    "    test_paths = glob(base_dir + '/unlabeled_soundscapes/*ogg')[:10]\n",
    "test_df = pd.DataFrame(test_paths, columns=['filepath'])\n",
    "test_df.head()"
   ]
  },
  {
   "cell_type": "code",
   "execution_count": 7,
   "id": "6bdc5912",
   "metadata": {
    "execution": {
     "iopub.execute_input": "2024-06-09T22:06:18.631057Z",
     "iopub.status.busy": "2024-06-09T22:06:18.630673Z",
     "iopub.status.idle": "2024-06-09T22:06:18.730905Z",
     "shell.execute_reply": "2024-06-09T22:06:18.729676Z"
    },
    "papermill": {
     "duration": 0.111014,
     "end_time": "2024-06-09T22:06:18.733676",
     "exception": false,
     "start_time": "2024-06-09T22:06:18.622662",
     "status": "completed"
    },
    "tags": []
   },
   "outputs": [],
   "source": [
    "test_dataset = AudioDatasetInference(\n",
    "    test_df['filepath'].values, \n",
    "    targets=None, \n",
    "    n_classes=Config.n_classes,\n",
    "    duration=5,\n",
    "    sample_rate=Config.sample_rate,\n",
    "    target_length=Config.target_length,\n",
    "    n_mels=Config.n_mels,\n",
    "    n_fft=Config.n_fft,\n",
    "    window=Config.window,\n",
    "    hop_length=Config.hop_length,\n",
    "    fmin=Config.fmin,\n",
    "    fmax=Config.fmax,\n",
    "    top_db=Config.top_db,\n",
    "    standardize=Config.standardize,\n",
    "    mean=Config.dataset_mean,\n",
    "    std=Config.dataset_std\n",
    "    )"
   ]
  },
  {
   "cell_type": "code",
   "execution_count": 8,
   "id": "cc0c07c7",
   "metadata": {
    "execution": {
     "iopub.execute_input": "2024-06-09T22:06:18.748569Z",
     "iopub.status.busy": "2024-06-09T22:06:18.748136Z",
     "iopub.status.idle": "2024-06-09T22:06:18.756347Z",
     "shell.execute_reply": "2024-06-09T22:06:18.755241Z"
    },
    "papermill": {
     "duration": 0.01845,
     "end_time": "2024-06-09T22:06:18.758784",
     "exception": false,
     "start_time": "2024-06-09T22:06:18.740334",
     "status": "completed"
    },
    "tags": []
   },
   "outputs": [
    {
     "data": {
      "text/plain": [
       "'if Config.multithreading:\\n    def predict(dataset, model, loss):\\n        ids = []\\n        preds = np.empty(shape=(0, n_classes), dtype=\\'float32\\')\\n        output_layer = model.output(0)\\n        if loss == \\'crossentropy\\':\\n            final_activation = partial(scipy.special.softmax, axis=1)\\n        elif loss == \\'bce\\':\\n            final_activation = scipy.special.expit\\n\\n        for i in range(len(dataset)):\\n            specs, file = dataset[i]\\n            filename = file.split(\\'/\\')[-1][:-4]\\n\\n            outs = model([specs])[output_layer]\\n            outs = final_activation(outs)\\n\\n            frame_ids = [f\\'{filename}_{(frame_id+1)*5}\\' for frame_id in range(len(specs))]\\n            ids += frame_ids\\n\\n            preds = np.concatenate([preds, outs], axis=0)\\n\\n        return preds, ids\\n\\n    def run_prediction(data_loader, model_id):\\n        core = ov.Core()\\n        checkpoint_ov = Config.ensemble_checkpoints[model_id] + \\'/checkpoint.xml\\'\\n        loss = Config.ensemble_losses[model_id]\\n        config = {hints.performance_mode: hints.PerformanceMode.THROUGHPUT}\\n        model = core.compile_model(checkpoint_ov, \"CPU\", config)\\n        \\n        preds, ids = predict(data_loader, model, loss)\\n        del core, model, loss\\n        gc.collect()\\n        \\n        print(f\"Done model {model_id}\")\\n        return preds, ids\\n\\n    def helper(inputs):\\n        return run_prediction(inputs[0], inputs[1])\\n\\n\\n    start=time.time()\\n    \\n    audios = [(test_dataset, model_id) for model_id in range(len(Config.ensemble_checkpoints))]\\n    ensemble_preds = []\\n    with futures.ThreadPoolExecutor(max_workers=10) as executor:\\n        for preds, ids in executor.map(helper, audios):\\n            ensemble_preds.append(preds)\\n    ensemble_preds = np.array(ensemble_preds)\\n    #ensemble_preds = ensemble_preds.mean(axis=0)\\n    ensemble_preds = (ensemble_preds**2).mean(axis=0) ** 0.5\\n    preds = ensemble_preds\\n\\n    print(time.time()-start)'"
      ]
     },
     "execution_count": 8,
     "metadata": {},
     "output_type": "execute_result"
    }
   ],
   "source": [
    "\"\"\"if Config.multithreading:\n",
    "    def predict(dataset, model, loss):\n",
    "        ids = []\n",
    "        preds = np.empty(shape=(0, n_classes), dtype='float32')\n",
    "        output_layer = model.output(0)\n",
    "        if loss == 'crossentropy':\n",
    "            final_activation = partial(scipy.special.softmax, axis=1)\n",
    "        elif loss == 'bce':\n",
    "            final_activation = scipy.special.expit\n",
    "\n",
    "        for i in range(len(dataset)):\n",
    "            specs, file = dataset[i]\n",
    "            filename = file.split('/')[-1][:-4]\n",
    "\n",
    "            outs = model([specs])[output_layer]\n",
    "            outs = final_activation(outs)\n",
    "\n",
    "            frame_ids = [f'{filename}_{(frame_id+1)*5}' for frame_id in range(len(specs))]\n",
    "            ids += frame_ids\n",
    "\n",
    "            preds = np.concatenate([preds, outs], axis=0)\n",
    "\n",
    "        return preds, ids\n",
    "\n",
    "    def run_prediction(data_loader, model_id):\n",
    "        core = ov.Core()\n",
    "        checkpoint_ov = Config.ensemble_checkpoints[model_id] + '/checkpoint.xml'\n",
    "        loss = Config.ensemble_losses[model_id]\n",
    "        config = {hints.performance_mode: hints.PerformanceMode.THROUGHPUT}\n",
    "        model = core.compile_model(checkpoint_ov, \"CPU\", config)\n",
    "        \n",
    "        preds, ids = predict(data_loader, model, loss)\n",
    "        del core, model, loss\n",
    "        gc.collect()\n",
    "        \n",
    "        print(f\"Done model {model_id}\")\n",
    "        return preds, ids\n",
    "\n",
    "    def helper(inputs):\n",
    "        return run_prediction(inputs[0], inputs[1])\n",
    "\n",
    "\n",
    "    start=time.time()\n",
    "    \n",
    "    audios = [(test_dataset, model_id) for model_id in range(len(Config.ensemble_checkpoints))]\n",
    "    ensemble_preds = []\n",
    "    with futures.ThreadPoolExecutor(max_workers=10) as executor:\n",
    "        for preds, ids in executor.map(helper, audios):\n",
    "            ensemble_preds.append(preds)\n",
    "    ensemble_preds = np.array(ensemble_preds)\n",
    "    #ensemble_preds = ensemble_preds.mean(axis=0)\n",
    "    ensemble_preds = (ensemble_preds**2).mean(axis=0) ** 0.5\n",
    "    preds = ensemble_preds\n",
    "\n",
    "    print(time.time()-start)\"\"\""
   ]
  },
  {
   "cell_type": "code",
   "execution_count": 9,
   "id": "7e6eeb87",
   "metadata": {
    "execution": {
     "iopub.execute_input": "2024-06-09T22:06:18.775509Z",
     "iopub.status.busy": "2024-06-09T22:06:18.775099Z",
     "iopub.status.idle": "2024-06-09T22:07:11.340471Z",
     "shell.execute_reply": "2024-06-09T22:07:11.338887Z"
    },
    "papermill": {
     "duration": 52.582567,
     "end_time": "2024-06-09T22:07:11.349251",
     "exception": false,
     "start_time": "2024-06-09T22:06:18.766684",
     "status": "completed"
    },
    "tags": []
   },
   "outputs": [
    {
     "name": "stderr",
     "output_type": "stream",
     "text": [
      "mbind failed: Operation not permitted\n",
      "mbind failed: Operation not permitted\n",
      "mbind failed: Operation not permitted\n"
     ]
    },
    {
     "name": "stdout",
     "output_type": "stream",
     "text": [
      "52.54720735549927\n"
     ]
    }
   ],
   "source": [
    "if Config.multithreading:\n",
    "    def predict(specs, infer_request, final_activation, weight, norm_stat):\n",
    "        if norm_stat == 'old':\n",
    "            specs = v2.Normalize(mean=[-16.8828], std=[12.4019])(specs)\n",
    "        else:\n",
    "            specs = v2.Normalize(mean=[-22.9137], std=[11.8739])(specs)\n",
    "        sample_preds = np.empty(shape=(0, n_classes), dtype='float32')\n",
    "        start_time = time.time()\n",
    "        outs = infer_request.infer([specs])[0]\n",
    "        outs = final_activation(outs)\n",
    "        model_time = time.time()-start_time\n",
    "        sample_preds = np.concatenate([sample_preds, outs], axis=0)\n",
    "        return sample_preds, model_time, weight\n",
    "\n",
    "    def helper(inputs):\n",
    "        return predict(inputs[0], inputs[1], inputs[2], inputs[3], inputs[4])\n",
    "\n",
    "    \n",
    "    def get_model(model_id):\n",
    "        core = ov.Core()\n",
    "        checkpoint_ov = Config.ensemble_checkpoints[model_id] + '/checkpoint.xml'\n",
    "        loss = Config.ensemble_losses[model_id]\n",
    "        config = {hints.performance_mode: hints.PerformanceMode.THROUGHPUT}\n",
    "        model = core.compile_model(checkpoint_ov, \"CPU\", config)\n",
    "        infer_request = model.create_infer_request()\n",
    "        return infer_request\n",
    "    \n",
    "    def get_final_activation(model_id):\n",
    "        loss = Config.ensemble_losses[model_id]\n",
    "        if loss == 'crossentropy':\n",
    "            final_activation = partial(scipy.special.softmax, axis=1)\n",
    "        elif loss == 'bce':\n",
    "            final_activation = scipy.special.expit\n",
    "        return final_activation\n",
    "        \n",
    "\n",
    "    start=time.time()\n",
    "\n",
    "    models = [get_model(model_id) for model_id in range(len(Config.ensemble_checkpoints))]\n",
    "    f_activations = [get_final_activation(model_id) for model_id in range(len(Config.ensemble_checkpoints))]\n",
    "    \n",
    "    preds = np.empty(shape=(0, n_classes), dtype='float32')\n",
    "    ids = []\n",
    "    ensemble_preds = np.empty(shape=(0, n_classes), dtype='float32')\n",
    "    for i in range(len(test_dataset)):\n",
    "        specs, file = test_dataset[i]\n",
    "        filename = file.split('/')[-1][:-4]\n",
    "        frame_ids = [f'{filename}_{(frame_id+1)*5}' for frame_id in range(len(specs))]\n",
    "        ids += frame_ids\n",
    "        \n",
    "        ensemble_preds = []\n",
    "        list_inputs = [(specs, models[k], f_activations[k], Config.ensemble_weights[k], Config.ensemble_normstats[k]) for k in range(len(models))]\n",
    "        with futures.ThreadPoolExecutor(max_workers=len(Config.ensemble_checkpoints)) as executor:\n",
    "            for sample_preds, model_time, weight in executor.map(helper, list_inputs):\n",
    "                ensemble_preds.append(sample_preds*weight)\n",
    "                #print('model', model_time)\n",
    "        ensemble_preds = np.array(ensemble_preds)\n",
    "        #ensemble_preds = ensemble_preds.sum(axis=0)/sum(weights)\n",
    "        ensemble_preds = ensemble_preds.transpose(1,0,2)\n",
    "        ensemble_preds = scipy.special.softmax(ensemble_preds @ ensemble_preds.transpose(0,-1,-2) / (np.sqrt(ensemble_preds.shape[-1])), axis=-1) @ ensemble_preds\n",
    "        ensemble_preds = ensemble_preds.mean(1)\n",
    "        #ensemble_preds = (ensemble_preds**2).mean(axis=0) ** 0.5\n",
    "        preds = np.concatenate([preds, ensemble_preds], axis=0)\n",
    "\n",
    "    print(time.time()-start)"
   ]
  },
  {
   "cell_type": "code",
   "execution_count": 10,
   "id": "221af3b3",
   "metadata": {
    "execution": {
     "iopub.execute_input": "2024-06-09T22:07:11.365370Z",
     "iopub.status.busy": "2024-06-09T22:07:11.364536Z",
     "iopub.status.idle": "2024-06-09T22:07:11.374166Z",
     "shell.execute_reply": "2024-06-09T22:07:11.372999Z"
    },
    "papermill": {
     "duration": 0.020577,
     "end_time": "2024-06-09T22:07:11.376882",
     "exception": false,
     "start_time": "2024-06-09T22:07:11.356305",
     "status": "completed"
    },
    "tags": []
   },
   "outputs": [],
   "source": [
    "if Config.use_openvino:\n",
    "    start=time.time()\n",
    "    \n",
    "    checkpoint_ov = Config.checkpoint_dir + '/checkpoint.xml'\n",
    "    config = {hints.performance_mode: hints.PerformanceMode.THROUGHPUT}\n",
    "    core = ov.Core()\n",
    "    model = core.compile_model(checkpoint_ov, \"AUTO\", config)\n",
    "\n",
    "\n",
    "    ids = []\n",
    "    preds = np.empty(shape=(0, n_classes), dtype='float32')\n",
    "    output_layer = model.output(0)\n",
    "    if Config.loss == 'crossentropy':\n",
    "        final_activation = partial(scipy.special.softmax, axis=1)\n",
    "    elif Config.loss == 'bce':\n",
    "        final_activation = scipy.special.expit\n",
    "\n",
    "    test_iter = tqdm(range(len(test_dataset)))\n",
    "    for i in test_iter:\n",
    "        #start_sample_time = time.time()\n",
    "        specs, file = test_dataset[i]\n",
    "        filename = file.split('/')[-1][:-4]\n",
    "        #data_time = time.time()\n",
    "        #print(\"data\", data_time-start_sample_time)\n",
    "        \n",
    "        outs = model([specs])[output_layer]\n",
    "        outs = final_activation(outs)\n",
    "        #model_time = time.time()\n",
    "        #print(\"model\", model_time-data_time)\n",
    "\n",
    "        frame_ids = [f'{filename}_{(frame_id+1)*5}' for frame_id in range(len(specs))]\n",
    "        ids += frame_ids\n",
    "\n",
    "        preds = np.concatenate([preds, outs], axis=0)\n",
    "        #end_time = time.time()\n",
    "        #print(\"end\", end_time-model_time)\n",
    "\n",
    "    print(time.time()-start)"
   ]
  },
  {
   "cell_type": "code",
   "execution_count": 11,
   "id": "2c0309e0",
   "metadata": {
    "execution": {
     "iopub.execute_input": "2024-06-09T22:07:11.392446Z",
     "iopub.status.busy": "2024-06-09T22:07:11.392022Z",
     "iopub.status.idle": "2024-06-09T22:07:11.610827Z",
     "shell.execute_reply": "2024-06-09T22:07:11.609576Z"
    },
    "papermill": {
     "duration": 0.230211,
     "end_time": "2024-06-09T22:07:11.614047",
     "exception": false,
     "start_time": "2024-06-09T22:07:11.383836",
     "status": "completed"
    },
    "tags": []
   },
   "outputs": [],
   "source": [
    "# Submit prediction\n",
    "pred_df = pd.DataFrame(ids, columns=['row_id'])\n",
    "pred_df.loc[:, class_names] = preds\n",
    "pred_df.to_csv('submission.csv',index=False)"
   ]
  },
  {
   "cell_type": "code",
   "execution_count": null,
   "id": "45354f3d",
   "metadata": {
    "papermill": {
     "duration": 0.006639,
     "end_time": "2024-06-09T22:07:11.627720",
     "exception": false,
     "start_time": "2024-06-09T22:07:11.621081",
     "status": "completed"
    },
    "tags": []
   },
   "outputs": [],
   "source": []
  }
 ],
 "metadata": {
  "kaggle": {
   "accelerator": "none",
   "dataSources": [
    {
     "databundleVersionId": 8068726,
     "sourceId": 70203,
     "sourceType": "competition"
    },
    {
     "datasetId": 4974926,
     "sourceId": 8368720,
     "sourceType": "datasetVersion"
    },
    {
     "modelInstanceId": 36931,
     "sourceId": 43978,
     "sourceType": "modelInstanceVersion"
    },
    {
     "isSourceIdPinned": true,
     "modelInstanceId": 37353,
     "sourceId": 44462,
     "sourceType": "modelInstanceVersion"
    },
    {
     "isSourceIdPinned": true,
     "modelInstanceId": 38405,
     "sourceId": 45806,
     "sourceType": "modelInstanceVersion"
    },
    {
     "isSourceIdPinned": true,
     "modelInstanceId": 38419,
     "sourceId": 45820,
     "sourceType": "modelInstanceVersion"
    },
    {
     "isSourceIdPinned": true,
     "modelInstanceId": 38589,
     "sourceId": 46032,
     "sourceType": "modelInstanceVersion"
    },
    {
     "isSourceIdPinned": true,
     "modelInstanceId": 38914,
     "sourceId": 46428,
     "sourceType": "modelInstanceVersion"
    },
    {
     "isSourceIdPinned": true,
     "modelInstanceId": 38919,
     "sourceId": 46436,
     "sourceType": "modelInstanceVersion"
    },
    {
     "isSourceIdPinned": true,
     "modelInstanceId": 38921,
     "sourceId": 46438,
     "sourceType": "modelInstanceVersion"
    },
    {
     "isSourceIdPinned": true,
     "modelInstanceId": 39720,
     "sourceId": 47444,
     "sourceType": "modelInstanceVersion"
    },
    {
     "isSourceIdPinned": true,
     "modelInstanceId": 39722,
     "sourceId": 47446,
     "sourceType": "modelInstanceVersion"
    },
    {
     "isSourceIdPinned": true,
     "modelInstanceId": 40135,
     "sourceId": 47961,
     "sourceType": "modelInstanceVersion"
    },
    {
     "isSourceIdPinned": true,
     "modelInstanceId": 40164,
     "sourceId": 47997,
     "sourceType": "modelInstanceVersion"
    },
    {
     "isSourceIdPinned": true,
     "modelInstanceId": 40580,
     "sourceId": 48508,
     "sourceType": "modelInstanceVersion"
    },
    {
     "isSourceIdPinned": true,
     "modelInstanceId": 40584,
     "sourceId": 48512,
     "sourceType": "modelInstanceVersion"
    },
    {
     "isSourceIdPinned": true,
     "modelInstanceId": 40863,
     "sourceId": 48874,
     "sourceType": "modelInstanceVersion"
    },
    {
     "isSourceIdPinned": true,
     "modelInstanceId": 46578,
     "sourceId": 55385,
     "sourceType": "modelInstanceVersion"
    },
    {
     "isSourceIdPinned": true,
     "modelInstanceId": 46579,
     "sourceId": 55386,
     "sourceType": "modelInstanceVersion"
    },
    {
     "isSourceIdPinned": true,
     "modelInstanceId": 46580,
     "sourceId": 55387,
     "sourceType": "modelInstanceVersion"
    },
    {
     "isSourceIdPinned": true,
     "modelInstanceId": 46581,
     "sourceId": 55388,
     "sourceType": "modelInstanceVersion"
    },
    {
     "isSourceIdPinned": true,
     "modelInstanceId": 46582,
     "sourceId": 55389,
     "sourceType": "modelInstanceVersion"
    },
    {
     "isSourceIdPinned": true,
     "modelInstanceId": 46952,
     "sourceId": 55874,
     "sourceType": "modelInstanceVersion"
    },
    {
     "isSourceIdPinned": true,
     "modelInstanceId": 47147,
     "sourceId": 56128,
     "sourceType": "modelInstanceVersion"
    },
    {
     "isSourceIdPinned": true,
     "modelInstanceId": 47149,
     "sourceId": 56130,
     "sourceType": "modelInstanceVersion"
    },
    {
     "isSourceIdPinned": true,
     "modelInstanceId": 47151,
     "sourceId": 56132,
     "sourceType": "modelInstanceVersion"
    },
    {
     "isSourceIdPinned": true,
     "modelInstanceId": 48404,
     "sourceId": 57712,
     "sourceType": "modelInstanceVersion"
    },
    {
     "isSourceIdPinned": true,
     "modelInstanceId": 48405,
     "sourceId": 57713,
     "sourceType": "modelInstanceVersion"
    },
    {
     "isSourceIdPinned": true,
     "modelInstanceId": 48745,
     "sourceId": 58148,
     "sourceType": "modelInstanceVersion"
    },
    {
     "isSourceIdPinned": true,
     "modelInstanceId": 48746,
     "sourceId": 58149,
     "sourceType": "modelInstanceVersion"
    },
    {
     "isSourceIdPinned": true,
     "modelInstanceId": 48747,
     "sourceId": 58150,
     "sourceType": "modelInstanceVersion"
    },
    {
     "isSourceIdPinned": true,
     "modelInstanceId": 48748,
     "sourceId": 58151,
     "sourceType": "modelInstanceVersion"
    },
    {
     "isSourceIdPinned": true,
     "modelInstanceId": 48749,
     "sourceId": 58152,
     "sourceType": "modelInstanceVersion"
    },
    {
     "isSourceIdPinned": true,
     "modelInstanceId": 49140,
     "sourceId": 58670,
     "sourceType": "modelInstanceVersion"
    },
    {
     "isSourceIdPinned": true,
     "modelInstanceId": 49380,
     "sourceId": 58975,
     "sourceType": "modelInstanceVersion"
    },
    {
     "isSourceIdPinned": true,
     "modelInstanceId": 49382,
     "sourceId": 58977,
     "sourceType": "modelInstanceVersion"
    },
    {
     "isSourceIdPinned": true,
     "modelInstanceId": 49383,
     "sourceId": 58978,
     "sourceType": "modelInstanceVersion"
    },
    {
     "isSourceIdPinned": true,
     "modelInstanceId": 49385,
     "sourceId": 58980,
     "sourceType": "modelInstanceVersion"
    },
    {
     "isSourceIdPinned": true,
     "modelInstanceId": 49621,
     "sourceId": 59297,
     "sourceType": "modelInstanceVersion"
    },
    {
     "isSourceIdPinned": true,
     "modelInstanceId": 49622,
     "sourceId": 59298,
     "sourceType": "modelInstanceVersion"
    },
    {
     "isSourceIdPinned": true,
     "modelInstanceId": 49623,
     "sourceId": 59299,
     "sourceType": "modelInstanceVersion"
    },
    {
     "isSourceIdPinned": true,
     "modelInstanceId": 50485,
     "sourceId": 60361,
     "sourceType": "modelInstanceVersion"
    },
    {
     "isSourceIdPinned": true,
     "modelInstanceId": 50487,
     "sourceId": 60363,
     "sourceType": "modelInstanceVersion"
    },
    {
     "isSourceIdPinned": true,
     "modelInstanceId": 50488,
     "sourceId": 60364,
     "sourceType": "modelInstanceVersion"
    },
    {
     "isSourceIdPinned": true,
     "modelInstanceId": 50489,
     "sourceId": 60365,
     "sourceType": "modelInstanceVersion"
    },
    {
     "isSourceIdPinned": true,
     "modelInstanceId": 50490,
     "sourceId": 60366,
     "sourceType": "modelInstanceVersion"
    },
    {
     "isSourceIdPinned": true,
     "modelInstanceId": 50847,
     "sourceId": 60807,
     "sourceType": "modelInstanceVersion"
    },
    {
     "isSourceIdPinned": true,
     "modelInstanceId": 50848,
     "sourceId": 60808,
     "sourceType": "modelInstanceVersion"
    },
    {
     "isSourceIdPinned": true,
     "modelInstanceId": 50849,
     "sourceId": 60809,
     "sourceType": "modelInstanceVersion"
    },
    {
     "isSourceIdPinned": true,
     "modelInstanceId": 51102,
     "sourceId": 61127,
     "sourceType": "modelInstanceVersion"
    },
    {
     "isSourceIdPinned": true,
     "modelInstanceId": 51104,
     "sourceId": 61129,
     "sourceType": "modelInstanceVersion"
    },
    {
     "isSourceIdPinned": true,
     "modelInstanceId": 51105,
     "sourceId": 61130,
     "sourceType": "modelInstanceVersion"
    },
    {
     "isSourceIdPinned": true,
     "modelInstanceId": 51128,
     "sourceId": 61159,
     "sourceType": "modelInstanceVersion"
    },
    {
     "isSourceIdPinned": true,
     "modelInstanceId": 51817,
     "sourceId": 62030,
     "sourceType": "modelInstanceVersion"
    },
    {
     "isSourceIdPinned": true,
     "modelInstanceId": 51818,
     "sourceId": 62031,
     "sourceType": "modelInstanceVersion"
    },
    {
     "isSourceIdPinned": true,
     "modelInstanceId": 51846,
     "sourceId": 62064,
     "sourceType": "modelInstanceVersion"
    },
    {
     "isSourceIdPinned": true,
     "modelInstanceId": 52269,
     "sourceId": 62599,
     "sourceType": "modelInstanceVersion"
    },
    {
     "isSourceIdPinned": true,
     "modelInstanceId": 52270,
     "sourceId": 62600,
     "sourceType": "modelInstanceVersion"
    },
    {
     "isSourceIdPinned": true,
     "modelInstanceId": 52402,
     "sourceId": 62793,
     "sourceType": "modelInstanceVersion"
    },
    {
     "isSourceIdPinned": true,
     "modelInstanceId": 52403,
     "sourceId": 62794,
     "sourceType": "modelInstanceVersion"
    },
    {
     "isSourceIdPinned": true,
     "modelInstanceId": 52404,
     "sourceId": 62795,
     "sourceType": "modelInstanceVersion"
    },
    {
     "isSourceIdPinned": true,
     "modelInstanceId": 52480,
     "sourceId": 62882,
     "sourceType": "modelInstanceVersion"
    }
   ],
   "dockerImageVersionId": 30698,
   "isGpuEnabled": false,
   "isInternetEnabled": false,
   "language": "python",
   "sourceType": "notebook"
  },
  "kernelspec": {
   "display_name": "Python 3",
   "language": "python",
   "name": "python3"
  },
  "language_info": {
   "codemirror_mode": {
    "name": "ipython",
    "version": 3
   },
   "file_extension": ".py",
   "mimetype": "text/x-python",
   "name": "python",
   "nbconvert_exporter": "python",
   "pygments_lexer": "ipython3",
   "version": "3.10.13"
  },
  "papermill": {
   "default_parameters": {},
   "duration": 85.960779,
   "end_time": "2024-06-09T22:07:13.562827",
   "environment_variables": {},
   "exception": null,
   "input_path": "__notebook__.ipynb",
   "output_path": "__notebook__.ipynb",
   "parameters": {},
   "start_time": "2024-06-09T22:05:47.602048",
   "version": "2.5.0"
  }
 },
 "nbformat": 4,
 "nbformat_minor": 5
}
