{
 "cells": [
  {
   "cell_type": "code",
   "execution_count": 1,
   "metadata": {},
   "outputs": [
    {
     "name": "stderr",
     "output_type": "stream",
     "text": [
      "/home/cedric/.local/lib/python3.10/site-packages/tqdm/auto.py:21: TqdmWarning: IProgress not found. Please update jupyter and ipywidgets. See https://ipywidgets.readthedocs.io/en/stable/user_install.html\n",
      "  from .autonotebook import tqdm as notebook_tqdm\n"
     ]
    }
   ],
   "source": [
    "import numpy as np\n",
    "import torch\n",
    "import torch.nn as nn\n",
    "import pandas as pd\n",
    "import os\n",
    "import matplotlib.pyplot as plt\n",
    "from tqdm import tqdm\n",
    "from torch.utils.data import DataLoader\n",
    "\n",
    "from src.data import AudioDatasetInference\n",
    "from src.models import BasicClassifier\n",
    "from src.utils import score\n",
    "from src.data_utils import get_fold, get_metadata_from_csv"
   ]
  },
  {
   "cell_type": "code",
   "execution_count": 11,
   "metadata": {},
   "outputs": [],
   "source": [
    "class Config:\n",
    "    duration = 10\n",
    "    sample_rate = 32000\n",
    "    target_length = 384\n",
    "    n_mels = 128\n",
    "    n_fft = 2028\n",
    "    window = 2028\n",
    "    audio_len = duration*sample_rate\n",
    "    hop_length = audio_len // (target_length-1)\n",
    "    fmin = 20\n",
    "    fmax = 16000\n",
    "    top_db = 80\n",
    "\n",
    "    n_classes = 182\n",
    "    model_name = 'efficientnet_v2_s'\n",
    "    checkpoint = 'checkpoints/2024-05-05_17-31-54_fold-0_dim-128x384_model-efficientnet_v2_s/checkpoint.pth'\n",
    "\n",
    "    standardize = False\n",
    "    dataset_mean = [-16.8828]\n",
    "    dataset_std = [12.4019]\n",
    "\n",
    "    loss = 'bce'"
   ]
  },
  {
   "cell_type": "code",
   "execution_count": 12,
   "metadata": {},
   "outputs": [],
   "source": [
    "base_dir = 'data'\n",
    "train_dir = base_dir + '/train_audio/'\n",
    "test_dir = base_dir + '/test_soundscapes/'\n",
    "unlabeled_dir = base_dir + '/unlabeled_soundscapes/'\n",
    "\n",
    "class_names = sorted(os.listdir(train_dir))\n",
    "n_classes = len(class_names)\n",
    "class_labels = list(range(n_classes))\n",
    "label2name = dict(zip(class_labels, class_names))\n",
    "name2label = {v:k for k,v in label2name.items()}\n",
    "\n",
    "metadata = get_metadata_from_csv('metadata.csv')"
   ]
  },
  {
   "cell_type": "code",
   "execution_count": 13,
   "metadata": {},
   "outputs": [
    {
     "name": "stdout",
     "output_type": "stream",
     "text": [
      "Num Train: 19567, 182 classes | Num Valid: 4892, 182 classes\n"
     ]
    }
   ],
   "source": [
    "fold = 0\n",
    "train_df, valid_df, class_weights = get_fold(metadata, fold)\n",
    "files = valid_df['filepath']\n",
    "targets = valid_df['target']"
   ]
  },
  {
   "cell_type": "code",
   "execution_count": 14,
   "metadata": {},
   "outputs": [],
   "source": [
    "test_dataset = AudioDatasetInference(\n",
    "    files, \n",
    "    targets=None, \n",
    "    n_classes=Config.n_classes,\n",
    "    duration=5,\n",
    "    sample_rate=Config.sample_rate,\n",
    "    target_length=Config.target_length,\n",
    "    n_mels=Config.n_mels,\n",
    "    n_fft=Config.n_fft,\n",
    "    window=Config.window,\n",
    "    hop_length=Config.hop_length,\n",
    "    fmin=Config.fmin,\n",
    "    fmax=Config.fmax,\n",
    "    top_db=Config.top_db,\n",
    "    standardize=Config.standardize,\n",
    "    mean=Config.dataset_mean,\n",
    "    std=Config.dataset_std\n",
    "    )"
   ]
  },
  {
   "cell_type": "code",
   "execution_count": 15,
   "metadata": {},
   "outputs": [],
   "source": [
    "device = torch.device('cuda')\n",
    "\n",
    "model = BasicClassifier(n_classes, pretrained=False, model_name=Config.model_name).to(device)\n",
    "checkpoint_name = Config.checkpoint\n",
    "checkpoint = torch.load(checkpoint_name, map_location='cpu')\n",
    "model.load_state_dict(checkpoint['model'])\n",
    "model = torch.jit.optimize_for_inference(torch.jit.script(model.eval()))"
   ]
  },
  {
   "cell_type": "code",
   "execution_count": 16,
   "metadata": {},
   "outputs": [
    {
     "name": "stderr",
     "output_type": "stream",
     "text": [
      "100%|██████████| 4892/4892 [07:37<00:00, 10.70it/s] \n"
     ]
    }
   ],
   "source": [
    "ids = []\n",
    "preds = np.empty(shape=(0, n_classes), dtype='float32')\n",
    "\n",
    "test_iter = tqdm(range(len(test_dataset)))\n",
    "for i in test_iter:\n",
    "    specs, file = test_dataset[i]\n",
    "    filename = file.split('/')[-1][:-4]\n",
    "    specs = specs.to(device)\n",
    "    \n",
    "    with torch.no_grad():\n",
    "        outs = model(specs)\n",
    "        if Config.loss == 'crossentropy':\n",
    "            outs = nn.functional.softmax(outs, dim=1).detach().cpu().numpy()\n",
    "        elif Config.loss == 'bce':\n",
    "            outs = outs.sigmoid().detach().cpu().numpy()\n",
    "\n",
    "    frame_ids = [f'{filename}_{(frame_id+1)*5}' for frame_id in range(len(specs))]\n",
    "    ids += frame_ids\n",
    "\n",
    "    preds = np.concatenate([preds, outs], axis=0)"
   ]
  },
  {
   "cell_type": "code",
   "execution_count": 17,
   "metadata": {},
   "outputs": [
    {
     "name": "stderr",
     "output_type": "stream",
     "text": [
      "/tmp/ipykernel_1191828/1020914727.py:9: PerformanceWarning: DataFrame is highly fragmented.  This is usually the result of calling `frame.insert` many times, which has poor performance.  Consider joining all columns at once using pd.concat(axis=1) instead. To get a de-fragmented frame, use `newframe = frame.copy()`\n",
      "  pred_df['target'] = pred_df.row_id.map(get_target)\n",
      "/tmp/ipykernel_1191828/1020914727.py:15: PerformanceWarning: DataFrame is highly fragmented.  This is usually the result of calling `frame.insert` many times, which has poor performance.  Consider joining all columns at once using pd.concat(axis=1) instead. To get a de-fragmented frame, use `newframe = frame.copy()`\n",
      "  solution[class_name] = (pred_df['target'] == name2label[class_name]).astype(int)\n",
      "/tmp/ipykernel_1191828/1020914727.py:15: PerformanceWarning: DataFrame is highly fragmented.  This is usually the result of calling `frame.insert` many times, which has poor performance.  Consider joining all columns at once using pd.concat(axis=1) instead. To get a de-fragmented frame, use `newframe = frame.copy()`\n",
      "  solution[class_name] = (pred_df['target'] == name2label[class_name]).astype(int)\n",
      "/tmp/ipykernel_1191828/1020914727.py:15: PerformanceWarning: DataFrame is highly fragmented.  This is usually the result of calling `frame.insert` many times, which has poor performance.  Consider joining all columns at once using pd.concat(axis=1) instead. To get a de-fragmented frame, use `newframe = frame.copy()`\n",
      "  solution[class_name] = (pred_df['target'] == name2label[class_name]).astype(int)\n",
      "/tmp/ipykernel_1191828/1020914727.py:15: PerformanceWarning: DataFrame is highly fragmented.  This is usually the result of calling `frame.insert` many times, which has poor performance.  Consider joining all columns at once using pd.concat(axis=1) instead. To get a de-fragmented frame, use `newframe = frame.copy()`\n",
      "  solution[class_name] = (pred_df['target'] == name2label[class_name]).astype(int)\n",
      "/tmp/ipykernel_1191828/1020914727.py:15: PerformanceWarning: DataFrame is highly fragmented.  This is usually the result of calling `frame.insert` many times, which has poor performance.  Consider joining all columns at once using pd.concat(axis=1) instead. To get a de-fragmented frame, use `newframe = frame.copy()`\n",
      "  solution[class_name] = (pred_df['target'] == name2label[class_name]).astype(int)\n",
      "/tmp/ipykernel_1191828/1020914727.py:15: PerformanceWarning: DataFrame is highly fragmented.  This is usually the result of calling `frame.insert` many times, which has poor performance.  Consider joining all columns at once using pd.concat(axis=1) instead. To get a de-fragmented frame, use `newframe = frame.copy()`\n",
      "  solution[class_name] = (pred_df['target'] == name2label[class_name]).astype(int)\n",
      "/tmp/ipykernel_1191828/1020914727.py:15: PerformanceWarning: DataFrame is highly fragmented.  This is usually the result of calling `frame.insert` many times, which has poor performance.  Consider joining all columns at once using pd.concat(axis=1) instead. To get a de-fragmented frame, use `newframe = frame.copy()`\n",
      "  solution[class_name] = (pred_df['target'] == name2label[class_name]).astype(int)\n",
      "/tmp/ipykernel_1191828/1020914727.py:15: PerformanceWarning: DataFrame is highly fragmented.  This is usually the result of calling `frame.insert` many times, which has poor performance.  Consider joining all columns at once using pd.concat(axis=1) instead. To get a de-fragmented frame, use `newframe = frame.copy()`\n",
      "  solution[class_name] = (pred_df['target'] == name2label[class_name]).astype(int)\n",
      "/tmp/ipykernel_1191828/1020914727.py:15: PerformanceWarning: DataFrame is highly fragmented.  This is usually the result of calling `frame.insert` many times, which has poor performance.  Consider joining all columns at once using pd.concat(axis=1) instead. To get a de-fragmented frame, use `newframe = frame.copy()`\n",
      "  solution[class_name] = (pred_df['target'] == name2label[class_name]).astype(int)\n",
      "/tmp/ipykernel_1191828/1020914727.py:15: PerformanceWarning: DataFrame is highly fragmented.  This is usually the result of calling `frame.insert` many times, which has poor performance.  Consider joining all columns at once using pd.concat(axis=1) instead. To get a de-fragmented frame, use `newframe = frame.copy()`\n",
      "  solution[class_name] = (pred_df['target'] == name2label[class_name]).astype(int)\n",
      "/tmp/ipykernel_1191828/1020914727.py:15: PerformanceWarning: DataFrame is highly fragmented.  This is usually the result of calling `frame.insert` many times, which has poor performance.  Consider joining all columns at once using pd.concat(axis=1) instead. To get a de-fragmented frame, use `newframe = frame.copy()`\n",
      "  solution[class_name] = (pred_df['target'] == name2label[class_name]).astype(int)\n",
      "/tmp/ipykernel_1191828/1020914727.py:15: PerformanceWarning: DataFrame is highly fragmented.  This is usually the result of calling `frame.insert` many times, which has poor performance.  Consider joining all columns at once using pd.concat(axis=1) instead. To get a de-fragmented frame, use `newframe = frame.copy()`\n",
      "  solution[class_name] = (pred_df['target'] == name2label[class_name]).astype(int)\n",
      "/tmp/ipykernel_1191828/1020914727.py:15: PerformanceWarning: DataFrame is highly fragmented.  This is usually the result of calling `frame.insert` many times, which has poor performance.  Consider joining all columns at once using pd.concat(axis=1) instead. To get a de-fragmented frame, use `newframe = frame.copy()`\n",
      "  solution[class_name] = (pred_df['target'] == name2label[class_name]).astype(int)\n",
      "/tmp/ipykernel_1191828/1020914727.py:15: PerformanceWarning: DataFrame is highly fragmented.  This is usually the result of calling `frame.insert` many times, which has poor performance.  Consider joining all columns at once using pd.concat(axis=1) instead. To get a de-fragmented frame, use `newframe = frame.copy()`\n",
      "  solution[class_name] = (pred_df['target'] == name2label[class_name]).astype(int)\n",
      "/tmp/ipykernel_1191828/1020914727.py:15: PerformanceWarning: DataFrame is highly fragmented.  This is usually the result of calling `frame.insert` many times, which has poor performance.  Consider joining all columns at once using pd.concat(axis=1) instead. To get a de-fragmented frame, use `newframe = frame.copy()`\n",
      "  solution[class_name] = (pred_df['target'] == name2label[class_name]).astype(int)\n",
      "/tmp/ipykernel_1191828/1020914727.py:15: PerformanceWarning: DataFrame is highly fragmented.  This is usually the result of calling `frame.insert` many times, which has poor performance.  Consider joining all columns at once using pd.concat(axis=1) instead. To get a de-fragmented frame, use `newframe = frame.copy()`\n",
      "  solution[class_name] = (pred_df['target'] == name2label[class_name]).astype(int)\n",
      "/tmp/ipykernel_1191828/1020914727.py:15: PerformanceWarning: DataFrame is highly fragmented.  This is usually the result of calling `frame.insert` many times, which has poor performance.  Consider joining all columns at once using pd.concat(axis=1) instead. To get a de-fragmented frame, use `newframe = frame.copy()`\n",
      "  solution[class_name] = (pred_df['target'] == name2label[class_name]).astype(int)\n",
      "/tmp/ipykernel_1191828/1020914727.py:15: PerformanceWarning: DataFrame is highly fragmented.  This is usually the result of calling `frame.insert` many times, which has poor performance.  Consider joining all columns at once using pd.concat(axis=1) instead. To get a de-fragmented frame, use `newframe = frame.copy()`\n",
      "  solution[class_name] = (pred_df['target'] == name2label[class_name]).astype(int)\n",
      "/tmp/ipykernel_1191828/1020914727.py:15: PerformanceWarning: DataFrame is highly fragmented.  This is usually the result of calling `frame.insert` many times, which has poor performance.  Consider joining all columns at once using pd.concat(axis=1) instead. To get a de-fragmented frame, use `newframe = frame.copy()`\n",
      "  solution[class_name] = (pred_df['target'] == name2label[class_name]).astype(int)\n",
      "/tmp/ipykernel_1191828/1020914727.py:15: PerformanceWarning: DataFrame is highly fragmented.  This is usually the result of calling `frame.insert` many times, which has poor performance.  Consider joining all columns at once using pd.concat(axis=1) instead. To get a de-fragmented frame, use `newframe = frame.copy()`\n",
      "  solution[class_name] = (pred_df['target'] == name2label[class_name]).astype(int)\n",
      "/tmp/ipykernel_1191828/1020914727.py:15: PerformanceWarning: DataFrame is highly fragmented.  This is usually the result of calling `frame.insert` many times, which has poor performance.  Consider joining all columns at once using pd.concat(axis=1) instead. To get a de-fragmented frame, use `newframe = frame.copy()`\n",
      "  solution[class_name] = (pred_df['target'] == name2label[class_name]).astype(int)\n",
      "/tmp/ipykernel_1191828/1020914727.py:15: PerformanceWarning: DataFrame is highly fragmented.  This is usually the result of calling `frame.insert` many times, which has poor performance.  Consider joining all columns at once using pd.concat(axis=1) instead. To get a de-fragmented frame, use `newframe = frame.copy()`\n",
      "  solution[class_name] = (pred_df['target'] == name2label[class_name]).astype(int)\n",
      "/tmp/ipykernel_1191828/1020914727.py:15: PerformanceWarning: DataFrame is highly fragmented.  This is usually the result of calling `frame.insert` many times, which has poor performance.  Consider joining all columns at once using pd.concat(axis=1) instead. To get a de-fragmented frame, use `newframe = frame.copy()`\n",
      "  solution[class_name] = (pred_df['target'] == name2label[class_name]).astype(int)\n",
      "/tmp/ipykernel_1191828/1020914727.py:15: PerformanceWarning: DataFrame is highly fragmented.  This is usually the result of calling `frame.insert` many times, which has poor performance.  Consider joining all columns at once using pd.concat(axis=1) instead. To get a de-fragmented frame, use `newframe = frame.copy()`\n",
      "  solution[class_name] = (pred_df['target'] == name2label[class_name]).astype(int)\n",
      "/tmp/ipykernel_1191828/1020914727.py:15: PerformanceWarning: DataFrame is highly fragmented.  This is usually the result of calling `frame.insert` many times, which has poor performance.  Consider joining all columns at once using pd.concat(axis=1) instead. To get a de-fragmented frame, use `newframe = frame.copy()`\n",
      "  solution[class_name] = (pred_df['target'] == name2label[class_name]).astype(int)\n",
      "/tmp/ipykernel_1191828/1020914727.py:15: PerformanceWarning: DataFrame is highly fragmented.  This is usually the result of calling `frame.insert` many times, which has poor performance.  Consider joining all columns at once using pd.concat(axis=1) instead. To get a de-fragmented frame, use `newframe = frame.copy()`\n",
      "  solution[class_name] = (pred_df['target'] == name2label[class_name]).astype(int)\n",
      "/tmp/ipykernel_1191828/1020914727.py:15: PerformanceWarning: DataFrame is highly fragmented.  This is usually the result of calling `frame.insert` many times, which has poor performance.  Consider joining all columns at once using pd.concat(axis=1) instead. To get a de-fragmented frame, use `newframe = frame.copy()`\n",
      "  solution[class_name] = (pred_df['target'] == name2label[class_name]).astype(int)\n",
      "/tmp/ipykernel_1191828/1020914727.py:15: PerformanceWarning: DataFrame is highly fragmented.  This is usually the result of calling `frame.insert` many times, which has poor performance.  Consider joining all columns at once using pd.concat(axis=1) instead. To get a de-fragmented frame, use `newframe = frame.copy()`\n",
      "  solution[class_name] = (pred_df['target'] == name2label[class_name]).astype(int)\n",
      "/tmp/ipykernel_1191828/1020914727.py:15: PerformanceWarning: DataFrame is highly fragmented.  This is usually the result of calling `frame.insert` many times, which has poor performance.  Consider joining all columns at once using pd.concat(axis=1) instead. To get a de-fragmented frame, use `newframe = frame.copy()`\n",
      "  solution[class_name] = (pred_df['target'] == name2label[class_name]).astype(int)\n",
      "/tmp/ipykernel_1191828/1020914727.py:15: PerformanceWarning: DataFrame is highly fragmented.  This is usually the result of calling `frame.insert` many times, which has poor performance.  Consider joining all columns at once using pd.concat(axis=1) instead. To get a de-fragmented frame, use `newframe = frame.copy()`\n",
      "  solution[class_name] = (pred_df['target'] == name2label[class_name]).astype(int)\n",
      "/tmp/ipykernel_1191828/1020914727.py:15: PerformanceWarning: DataFrame is highly fragmented.  This is usually the result of calling `frame.insert` many times, which has poor performance.  Consider joining all columns at once using pd.concat(axis=1) instead. To get a de-fragmented frame, use `newframe = frame.copy()`\n",
      "  solution[class_name] = (pred_df['target'] == name2label[class_name]).astype(int)\n",
      "/tmp/ipykernel_1191828/1020914727.py:15: PerformanceWarning: DataFrame is highly fragmented.  This is usually the result of calling `frame.insert` many times, which has poor performance.  Consider joining all columns at once using pd.concat(axis=1) instead. To get a de-fragmented frame, use `newframe = frame.copy()`\n",
      "  solution[class_name] = (pred_df['target'] == name2label[class_name]).astype(int)\n",
      "/tmp/ipykernel_1191828/1020914727.py:15: PerformanceWarning: DataFrame is highly fragmented.  This is usually the result of calling `frame.insert` many times, which has poor performance.  Consider joining all columns at once using pd.concat(axis=1) instead. To get a de-fragmented frame, use `newframe = frame.copy()`\n",
      "  solution[class_name] = (pred_df['target'] == name2label[class_name]).astype(int)\n",
      "/tmp/ipykernel_1191828/1020914727.py:15: PerformanceWarning: DataFrame is highly fragmented.  This is usually the result of calling `frame.insert` many times, which has poor performance.  Consider joining all columns at once using pd.concat(axis=1) instead. To get a de-fragmented frame, use `newframe = frame.copy()`\n",
      "  solution[class_name] = (pred_df['target'] == name2label[class_name]).astype(int)\n",
      "/tmp/ipykernel_1191828/1020914727.py:15: PerformanceWarning: DataFrame is highly fragmented.  This is usually the result of calling `frame.insert` many times, which has poor performance.  Consider joining all columns at once using pd.concat(axis=1) instead. To get a de-fragmented frame, use `newframe = frame.copy()`\n",
      "  solution[class_name] = (pred_df['target'] == name2label[class_name]).astype(int)\n",
      "/tmp/ipykernel_1191828/1020914727.py:15: PerformanceWarning: DataFrame is highly fragmented.  This is usually the result of calling `frame.insert` many times, which has poor performance.  Consider joining all columns at once using pd.concat(axis=1) instead. To get a de-fragmented frame, use `newframe = frame.copy()`\n",
      "  solution[class_name] = (pred_df['target'] == name2label[class_name]).astype(int)\n",
      "/tmp/ipykernel_1191828/1020914727.py:15: PerformanceWarning: DataFrame is highly fragmented.  This is usually the result of calling `frame.insert` many times, which has poor performance.  Consider joining all columns at once using pd.concat(axis=1) instead. To get a de-fragmented frame, use `newframe = frame.copy()`\n",
      "  solution[class_name] = (pred_df['target'] == name2label[class_name]).astype(int)\n",
      "/tmp/ipykernel_1191828/1020914727.py:15: PerformanceWarning: DataFrame is highly fragmented.  This is usually the result of calling `frame.insert` many times, which has poor performance.  Consider joining all columns at once using pd.concat(axis=1) instead. To get a de-fragmented frame, use `newframe = frame.copy()`\n",
      "  solution[class_name] = (pred_df['target'] == name2label[class_name]).astype(int)\n",
      "/tmp/ipykernel_1191828/1020914727.py:15: PerformanceWarning: DataFrame is highly fragmented.  This is usually the result of calling `frame.insert` many times, which has poor performance.  Consider joining all columns at once using pd.concat(axis=1) instead. To get a de-fragmented frame, use `newframe = frame.copy()`\n",
      "  solution[class_name] = (pred_df['target'] == name2label[class_name]).astype(int)\n",
      "/tmp/ipykernel_1191828/1020914727.py:15: PerformanceWarning: DataFrame is highly fragmented.  This is usually the result of calling `frame.insert` many times, which has poor performance.  Consider joining all columns at once using pd.concat(axis=1) instead. To get a de-fragmented frame, use `newframe = frame.copy()`\n",
      "  solution[class_name] = (pred_df['target'] == name2label[class_name]).astype(int)\n",
      "/tmp/ipykernel_1191828/1020914727.py:15: PerformanceWarning: DataFrame is highly fragmented.  This is usually the result of calling `frame.insert` many times, which has poor performance.  Consider joining all columns at once using pd.concat(axis=1) instead. To get a de-fragmented frame, use `newframe = frame.copy()`\n",
      "  solution[class_name] = (pred_df['target'] == name2label[class_name]).astype(int)\n",
      "/tmp/ipykernel_1191828/1020914727.py:15: PerformanceWarning: DataFrame is highly fragmented.  This is usually the result of calling `frame.insert` many times, which has poor performance.  Consider joining all columns at once using pd.concat(axis=1) instead. To get a de-fragmented frame, use `newframe = frame.copy()`\n",
      "  solution[class_name] = (pred_df['target'] == name2label[class_name]).astype(int)\n",
      "/tmp/ipykernel_1191828/1020914727.py:15: PerformanceWarning: DataFrame is highly fragmented.  This is usually the result of calling `frame.insert` many times, which has poor performance.  Consider joining all columns at once using pd.concat(axis=1) instead. To get a de-fragmented frame, use `newframe = frame.copy()`\n",
      "  solution[class_name] = (pred_df['target'] == name2label[class_name]).astype(int)\n",
      "/tmp/ipykernel_1191828/1020914727.py:15: PerformanceWarning: DataFrame is highly fragmented.  This is usually the result of calling `frame.insert` many times, which has poor performance.  Consider joining all columns at once using pd.concat(axis=1) instead. To get a de-fragmented frame, use `newframe = frame.copy()`\n",
      "  solution[class_name] = (pred_df['target'] == name2label[class_name]).astype(int)\n",
      "/tmp/ipykernel_1191828/1020914727.py:15: PerformanceWarning: DataFrame is highly fragmented.  This is usually the result of calling `frame.insert` many times, which has poor performance.  Consider joining all columns at once using pd.concat(axis=1) instead. To get a de-fragmented frame, use `newframe = frame.copy()`\n",
      "  solution[class_name] = (pred_df['target'] == name2label[class_name]).astype(int)\n",
      "/tmp/ipykernel_1191828/1020914727.py:15: PerformanceWarning: DataFrame is highly fragmented.  This is usually the result of calling `frame.insert` many times, which has poor performance.  Consider joining all columns at once using pd.concat(axis=1) instead. To get a de-fragmented frame, use `newframe = frame.copy()`\n",
      "  solution[class_name] = (pred_df['target'] == name2label[class_name]).astype(int)\n",
      "/tmp/ipykernel_1191828/1020914727.py:15: PerformanceWarning: DataFrame is highly fragmented.  This is usually the result of calling `frame.insert` many times, which has poor performance.  Consider joining all columns at once using pd.concat(axis=1) instead. To get a de-fragmented frame, use `newframe = frame.copy()`\n",
      "  solution[class_name] = (pred_df['target'] == name2label[class_name]).astype(int)\n",
      "/tmp/ipykernel_1191828/1020914727.py:15: PerformanceWarning: DataFrame is highly fragmented.  This is usually the result of calling `frame.insert` many times, which has poor performance.  Consider joining all columns at once using pd.concat(axis=1) instead. To get a de-fragmented frame, use `newframe = frame.copy()`\n",
      "  solution[class_name] = (pred_df['target'] == name2label[class_name]).astype(int)\n",
      "/tmp/ipykernel_1191828/1020914727.py:15: PerformanceWarning: DataFrame is highly fragmented.  This is usually the result of calling `frame.insert` many times, which has poor performance.  Consider joining all columns at once using pd.concat(axis=1) instead. To get a de-fragmented frame, use `newframe = frame.copy()`\n",
      "  solution[class_name] = (pred_df['target'] == name2label[class_name]).astype(int)\n",
      "/tmp/ipykernel_1191828/1020914727.py:15: PerformanceWarning: DataFrame is highly fragmented.  This is usually the result of calling `frame.insert` many times, which has poor performance.  Consider joining all columns at once using pd.concat(axis=1) instead. To get a de-fragmented frame, use `newframe = frame.copy()`\n",
      "  solution[class_name] = (pred_df['target'] == name2label[class_name]).astype(int)\n",
      "/tmp/ipykernel_1191828/1020914727.py:15: PerformanceWarning: DataFrame is highly fragmented.  This is usually the result of calling `frame.insert` many times, which has poor performance.  Consider joining all columns at once using pd.concat(axis=1) instead. To get a de-fragmented frame, use `newframe = frame.copy()`\n",
      "  solution[class_name] = (pred_df['target'] == name2label[class_name]).astype(int)\n",
      "/tmp/ipykernel_1191828/1020914727.py:15: PerformanceWarning: DataFrame is highly fragmented.  This is usually the result of calling `frame.insert` many times, which has poor performance.  Consider joining all columns at once using pd.concat(axis=1) instead. To get a de-fragmented frame, use `newframe = frame.copy()`\n",
      "  solution[class_name] = (pred_df['target'] == name2label[class_name]).astype(int)\n",
      "/tmp/ipykernel_1191828/1020914727.py:15: PerformanceWarning: DataFrame is highly fragmented.  This is usually the result of calling `frame.insert` many times, which has poor performance.  Consider joining all columns at once using pd.concat(axis=1) instead. To get a de-fragmented frame, use `newframe = frame.copy()`\n",
      "  solution[class_name] = (pred_df['target'] == name2label[class_name]).astype(int)\n",
      "/tmp/ipykernel_1191828/1020914727.py:15: PerformanceWarning: DataFrame is highly fragmented.  This is usually the result of calling `frame.insert` many times, which has poor performance.  Consider joining all columns at once using pd.concat(axis=1) instead. To get a de-fragmented frame, use `newframe = frame.copy()`\n",
      "  solution[class_name] = (pred_df['target'] == name2label[class_name]).astype(int)\n",
      "/tmp/ipykernel_1191828/1020914727.py:15: PerformanceWarning: DataFrame is highly fragmented.  This is usually the result of calling `frame.insert` many times, which has poor performance.  Consider joining all columns at once using pd.concat(axis=1) instead. To get a de-fragmented frame, use `newframe = frame.copy()`\n",
      "  solution[class_name] = (pred_df['target'] == name2label[class_name]).astype(int)\n",
      "/tmp/ipykernel_1191828/1020914727.py:15: PerformanceWarning: DataFrame is highly fragmented.  This is usually the result of calling `frame.insert` many times, which has poor performance.  Consider joining all columns at once using pd.concat(axis=1) instead. To get a de-fragmented frame, use `newframe = frame.copy()`\n",
      "  solution[class_name] = (pred_df['target'] == name2label[class_name]).astype(int)\n",
      "/tmp/ipykernel_1191828/1020914727.py:15: PerformanceWarning: DataFrame is highly fragmented.  This is usually the result of calling `frame.insert` many times, which has poor performance.  Consider joining all columns at once using pd.concat(axis=1) instead. To get a de-fragmented frame, use `newframe = frame.copy()`\n",
      "  solution[class_name] = (pred_df['target'] == name2label[class_name]).astype(int)\n",
      "/tmp/ipykernel_1191828/1020914727.py:15: PerformanceWarning: DataFrame is highly fragmented.  This is usually the result of calling `frame.insert` many times, which has poor performance.  Consider joining all columns at once using pd.concat(axis=1) instead. To get a de-fragmented frame, use `newframe = frame.copy()`\n",
      "  solution[class_name] = (pred_df['target'] == name2label[class_name]).astype(int)\n",
      "/tmp/ipykernel_1191828/1020914727.py:15: PerformanceWarning: DataFrame is highly fragmented.  This is usually the result of calling `frame.insert` many times, which has poor performance.  Consider joining all columns at once using pd.concat(axis=1) instead. To get a de-fragmented frame, use `newframe = frame.copy()`\n",
      "  solution[class_name] = (pred_df['target'] == name2label[class_name]).astype(int)\n",
      "/tmp/ipykernel_1191828/1020914727.py:15: PerformanceWarning: DataFrame is highly fragmented.  This is usually the result of calling `frame.insert` many times, which has poor performance.  Consider joining all columns at once using pd.concat(axis=1) instead. To get a de-fragmented frame, use `newframe = frame.copy()`\n",
      "  solution[class_name] = (pred_df['target'] == name2label[class_name]).astype(int)\n",
      "/tmp/ipykernel_1191828/1020914727.py:15: PerformanceWarning: DataFrame is highly fragmented.  This is usually the result of calling `frame.insert` many times, which has poor performance.  Consider joining all columns at once using pd.concat(axis=1) instead. To get a de-fragmented frame, use `newframe = frame.copy()`\n",
      "  solution[class_name] = (pred_df['target'] == name2label[class_name]).astype(int)\n",
      "/tmp/ipykernel_1191828/1020914727.py:15: PerformanceWarning: DataFrame is highly fragmented.  This is usually the result of calling `frame.insert` many times, which has poor performance.  Consider joining all columns at once using pd.concat(axis=1) instead. To get a de-fragmented frame, use `newframe = frame.copy()`\n",
      "  solution[class_name] = (pred_df['target'] == name2label[class_name]).astype(int)\n",
      "/tmp/ipykernel_1191828/1020914727.py:15: PerformanceWarning: DataFrame is highly fragmented.  This is usually the result of calling `frame.insert` many times, which has poor performance.  Consider joining all columns at once using pd.concat(axis=1) instead. To get a de-fragmented frame, use `newframe = frame.copy()`\n",
      "  solution[class_name] = (pred_df['target'] == name2label[class_name]).astype(int)\n",
      "/tmp/ipykernel_1191828/1020914727.py:15: PerformanceWarning: DataFrame is highly fragmented.  This is usually the result of calling `frame.insert` many times, which has poor performance.  Consider joining all columns at once using pd.concat(axis=1) instead. To get a de-fragmented frame, use `newframe = frame.copy()`\n",
      "  solution[class_name] = (pred_df['target'] == name2label[class_name]).astype(int)\n",
      "/tmp/ipykernel_1191828/1020914727.py:15: PerformanceWarning: DataFrame is highly fragmented.  This is usually the result of calling `frame.insert` many times, which has poor performance.  Consider joining all columns at once using pd.concat(axis=1) instead. To get a de-fragmented frame, use `newframe = frame.copy()`\n",
      "  solution[class_name] = (pred_df['target'] == name2label[class_name]).astype(int)\n",
      "/tmp/ipykernel_1191828/1020914727.py:15: PerformanceWarning: DataFrame is highly fragmented.  This is usually the result of calling `frame.insert` many times, which has poor performance.  Consider joining all columns at once using pd.concat(axis=1) instead. To get a de-fragmented frame, use `newframe = frame.copy()`\n",
      "  solution[class_name] = (pred_df['target'] == name2label[class_name]).astype(int)\n",
      "/tmp/ipykernel_1191828/1020914727.py:15: PerformanceWarning: DataFrame is highly fragmented.  This is usually the result of calling `frame.insert` many times, which has poor performance.  Consider joining all columns at once using pd.concat(axis=1) instead. To get a de-fragmented frame, use `newframe = frame.copy()`\n",
      "  solution[class_name] = (pred_df['target'] == name2label[class_name]).astype(int)\n",
      "/tmp/ipykernel_1191828/1020914727.py:15: PerformanceWarning: DataFrame is highly fragmented.  This is usually the result of calling `frame.insert` many times, which has poor performance.  Consider joining all columns at once using pd.concat(axis=1) instead. To get a de-fragmented frame, use `newframe = frame.copy()`\n",
      "  solution[class_name] = (pred_df['target'] == name2label[class_name]).astype(int)\n",
      "/tmp/ipykernel_1191828/1020914727.py:15: PerformanceWarning: DataFrame is highly fragmented.  This is usually the result of calling `frame.insert` many times, which has poor performance.  Consider joining all columns at once using pd.concat(axis=1) instead. To get a de-fragmented frame, use `newframe = frame.copy()`\n",
      "  solution[class_name] = (pred_df['target'] == name2label[class_name]).astype(int)\n",
      "/tmp/ipykernel_1191828/1020914727.py:15: PerformanceWarning: DataFrame is highly fragmented.  This is usually the result of calling `frame.insert` many times, which has poor performance.  Consider joining all columns at once using pd.concat(axis=1) instead. To get a de-fragmented frame, use `newframe = frame.copy()`\n",
      "  solution[class_name] = (pred_df['target'] == name2label[class_name]).astype(int)\n",
      "/tmp/ipykernel_1191828/1020914727.py:15: PerformanceWarning: DataFrame is highly fragmented.  This is usually the result of calling `frame.insert` many times, which has poor performance.  Consider joining all columns at once using pd.concat(axis=1) instead. To get a de-fragmented frame, use `newframe = frame.copy()`\n",
      "  solution[class_name] = (pred_df['target'] == name2label[class_name]).astype(int)\n",
      "/tmp/ipykernel_1191828/1020914727.py:15: PerformanceWarning: DataFrame is highly fragmented.  This is usually the result of calling `frame.insert` many times, which has poor performance.  Consider joining all columns at once using pd.concat(axis=1) instead. To get a de-fragmented frame, use `newframe = frame.copy()`\n",
      "  solution[class_name] = (pred_df['target'] == name2label[class_name]).astype(int)\n",
      "/tmp/ipykernel_1191828/1020914727.py:15: PerformanceWarning: DataFrame is highly fragmented.  This is usually the result of calling `frame.insert` many times, which has poor performance.  Consider joining all columns at once using pd.concat(axis=1) instead. To get a de-fragmented frame, use `newframe = frame.copy()`\n",
      "  solution[class_name] = (pred_df['target'] == name2label[class_name]).astype(int)\n",
      "/tmp/ipykernel_1191828/1020914727.py:15: PerformanceWarning: DataFrame is highly fragmented.  This is usually the result of calling `frame.insert` many times, which has poor performance.  Consider joining all columns at once using pd.concat(axis=1) instead. To get a de-fragmented frame, use `newframe = frame.copy()`\n",
      "  solution[class_name] = (pred_df['target'] == name2label[class_name]).astype(int)\n",
      "/tmp/ipykernel_1191828/1020914727.py:15: PerformanceWarning: DataFrame is highly fragmented.  This is usually the result of calling `frame.insert` many times, which has poor performance.  Consider joining all columns at once using pd.concat(axis=1) instead. To get a de-fragmented frame, use `newframe = frame.copy()`\n",
      "  solution[class_name] = (pred_df['target'] == name2label[class_name]).astype(int)\n",
      "/tmp/ipykernel_1191828/1020914727.py:15: PerformanceWarning: DataFrame is highly fragmented.  This is usually the result of calling `frame.insert` many times, which has poor performance.  Consider joining all columns at once using pd.concat(axis=1) instead. To get a de-fragmented frame, use `newframe = frame.copy()`\n",
      "  solution[class_name] = (pred_df['target'] == name2label[class_name]).astype(int)\n",
      "/tmp/ipykernel_1191828/1020914727.py:15: PerformanceWarning: DataFrame is highly fragmented.  This is usually the result of calling `frame.insert` many times, which has poor performance.  Consider joining all columns at once using pd.concat(axis=1) instead. To get a de-fragmented frame, use `newframe = frame.copy()`\n",
      "  solution[class_name] = (pred_df['target'] == name2label[class_name]).astype(int)\n",
      "/tmp/ipykernel_1191828/1020914727.py:15: PerformanceWarning: DataFrame is highly fragmented.  This is usually the result of calling `frame.insert` many times, which has poor performance.  Consider joining all columns at once using pd.concat(axis=1) instead. To get a de-fragmented frame, use `newframe = frame.copy()`\n",
      "  solution[class_name] = (pred_df['target'] == name2label[class_name]).astype(int)\n",
      "/tmp/ipykernel_1191828/1020914727.py:15: PerformanceWarning: DataFrame is highly fragmented.  This is usually the result of calling `frame.insert` many times, which has poor performance.  Consider joining all columns at once using pd.concat(axis=1) instead. To get a de-fragmented frame, use `newframe = frame.copy()`\n",
      "  solution[class_name] = (pred_df['target'] == name2label[class_name]).astype(int)\n",
      "/tmp/ipykernel_1191828/1020914727.py:15: PerformanceWarning: DataFrame is highly fragmented.  This is usually the result of calling `frame.insert` many times, which has poor performance.  Consider joining all columns at once using pd.concat(axis=1) instead. To get a de-fragmented frame, use `newframe = frame.copy()`\n",
      "  solution[class_name] = (pred_df['target'] == name2label[class_name]).astype(int)\n",
      "/tmp/ipykernel_1191828/1020914727.py:15: PerformanceWarning: DataFrame is highly fragmented.  This is usually the result of calling `frame.insert` many times, which has poor performance.  Consider joining all columns at once using pd.concat(axis=1) instead. To get a de-fragmented frame, use `newframe = frame.copy()`\n",
      "  solution[class_name] = (pred_df['target'] == name2label[class_name]).astype(int)\n",
      "/tmp/ipykernel_1191828/1020914727.py:15: PerformanceWarning: DataFrame is highly fragmented.  This is usually the result of calling `frame.insert` many times, which has poor performance.  Consider joining all columns at once using pd.concat(axis=1) instead. To get a de-fragmented frame, use `newframe = frame.copy()`\n",
      "  solution[class_name] = (pred_df['target'] == name2label[class_name]).astype(int)\n"
     ]
    }
   ],
   "source": [
    "pred_df = pd.DataFrame(ids, columns=['row_id'])\n",
    "pred_df.loc[:, class_names] = preds\n",
    "\n",
    "def get_target(row_id):\n",
    "    name = row_id.split('_')[0]\n",
    "    target = valid_df.loc[valid_df['filepath'].map(lambda x: x.split('/')[-1][:-4]) == name, 'target'].values[0]\n",
    "    return target\n",
    "\n",
    "pred_df['target'] = pred_df.row_id.map(get_target)\n",
    "submission = pred_df[class_names]\n",
    "\n",
    "solution = pd.DataFrame()\n",
    "for class_name in class_names:\n",
    "    # Create a new column where the value is 1 if the label matches the class index, and 0 otherwise\n",
    "    solution[class_name] = (pred_df['target'] == name2label[class_name]).astype(int)"
   ]
  },
  {
   "cell_type": "code",
   "execution_count": 18,
   "metadata": {},
   "outputs": [
    {
     "data": {
      "text/plain": [
       "0.6495929556132565"
      ]
     },
     "execution_count": 18,
     "metadata": {},
     "output_type": "execute_result"
    }
   ],
   "source": [
    "score(solution, submission, 'row_id')"
   ]
  },
  {
   "cell_type": "code",
   "execution_count": null,
   "metadata": {},
   "outputs": [],
   "source": [
    "0.6599837509627534"
   ]
  }
 ],
 "metadata": {
  "kernelspec": {
   "display_name": "birds",
   "language": "python",
   "name": "python3"
  },
  "language_info": {
   "codemirror_mode": {
    "name": "ipython",
    "version": 3
   },
   "file_extension": ".py",
   "mimetype": "text/x-python",
   "name": "python",
   "nbconvert_exporter": "python",
   "pygments_lexer": "ipython3",
   "version": "3.10.13"
  }
 },
 "nbformat": 4,
 "nbformat_minor": 2
}
