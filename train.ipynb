{
 "cells": [
  {
   "cell_type": "code",
   "execution_count": 1,
   "metadata": {},
   "outputs": [
    {
     "name": "stderr",
     "output_type": "stream",
     "text": [
      "/home/cedric/.local/lib/python3.10/site-packages/tqdm/auto.py:21: TqdmWarning: IProgress not found. Please update jupyter and ipywidgets. See https://ipywidgets.readthedocs.io/en/stable/user_install.html\n",
      "  from .autonotebook import tqdm as notebook_tqdm\n"
     ]
    }
   ],
   "source": [
    "import numpy as np\n",
    "import torch\n",
    "import torch.nn as nn\n",
    "import torchaudio\n",
    "import pandas as pd\n",
    "import os\n",
    "import matplotlib.pyplot as plt\n",
    "from tqdm import tqdm\n",
    "\n",
    "\n",
    "from sklearn.model_selection import train_test_split\n",
    "from torch.utils.data import DataLoader\n",
    "from torchaudio import transforms\n",
    "from torchvision.models import get_model\n",
    "from torchmetrics.classification import MulticlassAUROC\n",
    "\n",
    "from src.audio_utils import play_audio, plot_specgram, plot_waveform\n",
    "from src.data import AudioDataset"
   ]
  },
  {
   "cell_type": "code",
   "execution_count": 2,
   "metadata": {},
   "outputs": [],
   "source": [
    "base_dir = 'data'\n",
    "train_dir = base_dir + '/train_audio/'\n",
    "test_dir = base_dir + '/test_soundscapes/'\n",
    "unlabeled_dir = base_dir + '/unlabeled_soundscapes/'\n",
    "\n",
    "class_names = sorted(os.listdir(train_dir))\n",
    "n_classes = len(class_names)\n",
    "class_labels = list(range(n_classes))\n",
    "label2name = dict(zip(class_labels, class_names))\n",
    "name2label = {v:k for k,v in label2name.items()}\n",
    "\n",
    "metadata = pd.read_csv(base_dir + '/train_metadata.csv')\n",
    "metadata['filepath'] = train_dir + metadata.filename\n",
    "metadata['target'] = metadata.primary_label.map(name2label)\n",
    "metadata['filename'] = metadata.filepath.map(lambda x: x.split('/')[-1])\n",
    "metadata['xc_id'] = metadata.filepath.map(lambda x: x.split('/')[-1].split('.')[0])"
   ]
  },
  {
   "cell_type": "code",
   "execution_count": 30,
   "metadata": {},
   "outputs": [],
   "source": [
    "aug_transforms = nn.Sequential(\n",
    "    transforms.FrequencyMasking(freq_mask_param=80),\n",
    "    transforms.TimeMasking(time_mask_param=80)\n",
    ")"
   ]
  },
  {
   "cell_type": "code",
   "execution_count": 5,
   "metadata": {},
   "outputs": [
    {
     "name": "stdout",
     "output_type": "stream",
     "text": [
      "Num Train: 19567, 182 classes | Num Valid: 4892, 182 classes\n"
     ]
    }
   ],
   "source": [
    "#train_df, valid_df = train_test_split(metadata, test_size=0.2)\n",
    "train_df, valid_df = pd.read_csv('train_df.csv'), pd.read_csv('valid_df.csv')\n",
    "\n",
    "print(f\"Num Train: {len(train_df)}, {len(train_df['target'].unique())} classes |\\\n",
    " Num Valid: {len(valid_df)}, {len(valid_df['target'].unique())} classes\")\n",
    "\n",
    "train_dataset = AudioDataset(train_df, n_classes=182)\n",
    "val_dataset = AudioDataset(valid_df, n_classes=182)"
   ]
  },
  {
   "cell_type": "code",
   "execution_count": 6,
   "metadata": {},
   "outputs": [],
   "source": [
    "batch_size = 32\n",
    "train_loader = DataLoader(train_dataset, batch_size=batch_size, shuffle=True, num_workers=8)\n",
    "val_loader = DataLoader(val_dataset, batch_size=batch_size, shuffle=False, num_workers=8)"
   ]
  },
  {
   "cell_type": "code",
   "execution_count": 7,
   "metadata": {},
   "outputs": [],
   "source": [
    "class BasicClassifier(nn.Module):\n",
    "    def __init__(self, n_classes) -> None:\n",
    "        super(BasicClassifier, self).__init__()\n",
    "        self.backbone = get_model('efficientnet_v2_s', weights='DEFAULT').features\n",
    "        self.pool = nn.AdaptiveAvgPool2d(1)\n",
    "        self.classifier = nn.Sequential(\n",
    "            nn.Dropout(0.2, inplace=True),\n",
    "            nn.Linear(1280, n_classes)\n",
    "            )\n",
    "        \n",
    "    def forward(self, x):\n",
    "        x = self.backbone(x)\n",
    "        x = self.pool(x).squeeze()\n",
    "        x = self.classifier(x)\n",
    "        return x"
   ]
  },
  {
   "cell_type": "code",
   "execution_count": 8,
   "metadata": {},
   "outputs": [],
   "source": [
    "device = torch.device('cuda')\n",
    "num_epochs = 10\n",
    "\n",
    "model = BasicClassifier(182).to(device)\n",
    "optimizer = torch.optim.Adam(model.parameters())\n",
    "scheduler = torch.optim.lr_scheduler.OneCycleLR(optimizer, max_lr=0.001,\n",
    "                                                steps_per_epoch=int(len(train_loader)),\n",
    "                                                epochs=num_epochs,\n",
    "                                                anneal_strategy='cos')\n",
    "criterion = nn.CrossEntropyLoss()\n",
    "metric = MulticlassAUROC(num_classes=182, average='macro', thresholds=5)"
   ]
  },
  {
   "cell_type": "code",
   "execution_count": 9,
   "metadata": {},
   "outputs": [
    {
     "name": "stderr",
     "output_type": "stream",
     "text": [
      "train loss: 3.452: 100%|██████████| 612/612 [05:08<00:00,  1.98it/s]\n",
      "val loss: 2.078: 100%|██████████| 153/153 [01:00<00:00,  2.54it/s]\n"
     ]
    },
    {
     "name": "stdout",
     "output_type": "stream",
     "text": [
      "Epoch 1: Train Loss = 4.003 |          Val Loss = 2.594, Val Accuracy = 0.425\n"
     ]
    },
    {
     "name": "stderr",
     "output_type": "stream",
     "text": [
      "train loss: 1.736: 100%|██████████| 612/612 [05:18<00:00,  1.92it/s]\n",
      "val loss: 2.240: 100%|██████████| 153/153 [01:01<00:00,  2.48it/s]\n"
     ]
    },
    {
     "name": "stdout",
     "output_type": "stream",
     "text": [
      "Epoch 2: Train Loss = 2.272 |          Val Loss = 2.107, Val Accuracy = 0.520\n"
     ]
    },
    {
     "name": "stderr",
     "output_type": "stream",
     "text": [
      "train loss: 1.359: 100%|██████████| 612/612 [05:21<00:00,  1.90it/s]\n",
      "val loss: 1.876: 100%|██████████| 153/153 [01:07<00:00,  2.27it/s]\n"
     ]
    },
    {
     "name": "stdout",
     "output_type": "stream",
     "text": [
      "Epoch 3: Train Loss = 1.911 |          Val Loss = 1.796, Val Accuracy = 0.583\n"
     ]
    },
    {
     "name": "stderr",
     "output_type": "stream",
     "text": [
      "train loss: 1.300: 100%|██████████| 612/612 [05:36<00:00,  1.82it/s]\n",
      "val loss: 1.629: 100%|██████████| 153/153 [00:53<00:00,  2.88it/s]\n"
     ]
    },
    {
     "name": "stdout",
     "output_type": "stream",
     "text": [
      "Epoch 4: Train Loss = 1.580 |          Val Loss = 1.556, Val Accuracy = 0.637\n"
     ]
    },
    {
     "name": "stderr",
     "output_type": "stream",
     "text": [
      "train loss: 0.853: 100%|██████████| 612/612 [05:00<00:00,  2.04it/s]\n",
      "val loss: 1.222: 100%|██████████| 153/153 [00:54<00:00,  2.83it/s]\n"
     ]
    },
    {
     "name": "stdout",
     "output_type": "stream",
     "text": [
      "Epoch 5: Train Loss = 1.337 |          Val Loss = 1.457, Val Accuracy = 0.670\n"
     ]
    },
    {
     "name": "stderr",
     "output_type": "stream",
     "text": [
      "train loss: 2.501: 100%|██████████| 612/612 [04:42<00:00,  2.17it/s]\n",
      "val loss: 1.059: 100%|██████████| 153/153 [00:56<00:00,  2.71it/s]\n"
     ]
    },
    {
     "name": "stdout",
     "output_type": "stream",
     "text": [
      "Epoch 6: Train Loss = 1.121 |          Val Loss = 1.241, Val Accuracy = 0.713\n"
     ]
    },
    {
     "name": "stderr",
     "output_type": "stream",
     "text": [
      "train loss: 0.753: 100%|██████████| 612/612 [04:46<00:00,  2.13it/s]\n",
      "val loss: 1.207: 100%|██████████| 153/153 [00:55<00:00,  2.75it/s]\n"
     ]
    },
    {
     "name": "stdout",
     "output_type": "stream",
     "text": [
      "Epoch 7: Train Loss = 0.907 |          Val Loss = 1.110, Val Accuracy = 0.743\n"
     ]
    },
    {
     "name": "stderr",
     "output_type": "stream",
     "text": [
      "train loss: 1.218: 100%|██████████| 612/612 [04:50<00:00,  2.11it/s]\n",
      "val loss: 1.518: 100%|██████████| 153/153 [00:57<00:00,  2.65it/s]\n"
     ]
    },
    {
     "name": "stdout",
     "output_type": "stream",
     "text": [
      "Epoch 8: Train Loss = 0.696 |          Val Loss = 1.071, Val Accuracy = 0.763\n"
     ]
    },
    {
     "name": "stderr",
     "output_type": "stream",
     "text": [
      "train loss: 0.668: 100%|██████████| 612/612 [04:48<00:00,  2.12it/s]\n",
      "val loss: 0.969: 100%|██████████| 153/153 [00:57<00:00,  2.64it/s]\n"
     ]
    },
    {
     "name": "stdout",
     "output_type": "stream",
     "text": [
      "Epoch 9: Train Loss = 0.551 |          Val Loss = 1.038, Val Accuracy = 0.768\n"
     ]
    },
    {
     "name": "stderr",
     "output_type": "stream",
     "text": [
      "train loss: 0.269: 100%|██████████| 612/612 [04:48<00:00,  2.12it/s]\n",
      "val loss: 1.151: 100%|██████████| 153/153 [00:55<00:00,  2.78it/s]"
     ]
    },
    {
     "name": "stdout",
     "output_type": "stream",
     "text": [
      "Epoch 10: Train Loss = 0.467 |          Val Loss = 1.032, Val Accuracy = 0.770\n"
     ]
    },
    {
     "name": "stderr",
     "output_type": "stream",
     "text": [
      "\n"
     ]
    }
   ],
   "source": [
    "train_losses = []\n",
    "val_losses = []\n",
    "val_metrics = {'AUC': [], 'Accuracy': []}\n",
    "\n",
    "for epoch in range(num_epochs):\n",
    "    train_loss = 0\n",
    "    model.train()\n",
    "    train_iter = tqdm(train_loader)\n",
    "    for (batch, labels) in train_iter:\n",
    "        optimizer.zero_grad()\n",
    "\n",
    "        batch = batch.to(device)\n",
    "        labels = labels.to(device)\n",
    "\n",
    "        out = model(batch)\n",
    "        loss = criterion(out, labels)\n",
    "        loss.backward()\n",
    "        optimizer.step()\n",
    "        scheduler.step()\n",
    "\n",
    "        train_iter.set_description(desc=f'train loss: {loss.item():.3f}')\n",
    "        train_loss += loss.item() / len(train_loader)\n",
    "\n",
    "    train_losses.append(train_loss)\n",
    "\n",
    "    val_loss = 0\n",
    "    #val_auc = 0\n",
    "    val_accuracy = 0\n",
    "    model.eval()\n",
    "    val_iter = tqdm(val_loader)\n",
    "    for (batch, labels) in val_iter:\n",
    "        batch = batch.to(device)\n",
    "        labels = labels.to(device)\n",
    "\n",
    "        with torch.no_grad():\n",
    "            out = model(batch)\n",
    "            loss = criterion(out, labels)\n",
    "\n",
    "        val_loss += loss.item() / len(val_loader)\n",
    "        #val_auc += metric(out, labels) / len(val_loader)\n",
    "        pred = out.argmax(1)\n",
    "        val_accuracy += ((pred == labels).sum() / len(labels)) / len(val_loader)\n",
    "\n",
    "        val_iter.set_description(desc=f'val loss: {loss.item():.3f}')\n",
    "\n",
    "    val_losses.append(val_loss)\n",
    "    #val_metrics['AUC'].append(val_auc)\n",
    "    val_metrics['Accuracy'].append(val_accuracy)\n",
    "\n",
    "    print(f'Epoch {epoch+1}: Train Loss = {train_loss:.3f} |\\\n",
    "          Val Loss = {val_loss:.3f}, Val Accuracy = {val_accuracy:.3f}')"
   ]
  },
  {
   "cell_type": "code",
   "execution_count": 10,
   "metadata": {},
   "outputs": [],
   "source": [
    "save_dict = {\n",
    "    \"model\": model.state_dict(),\n",
    "    \"optimizer\": optimizer.state_dict(),\n",
    "    \"scheduler\": scheduler.state_dict(),\n",
    "    \"epoch\": epoch+1,\n",
    "    \"train_losses\": train_losses,\n",
    "    \"val_losses\": val_losses,\n",
    "    \"val_metrics\": val_metrics\n",
    "}\n",
    "\n",
    "torch.save(save_dict, \"checkpoints/efficientnet_v2_s_imagenet_base_32.pth\")"
   ]
  },
  {
   "cell_type": "code",
   "execution_count": 11,
   "metadata": {},
   "outputs": [
    {
     "data": {
      "image/png": "[encoded data removed]",
      "text/plain": [
       "<Figure size 640x480 with 1 Axes>"
      ]
     },
     "metadata": {},
     "output_type": "display_data"
    }
   ],
   "source": [
    "plt.plot(train_losses, label='train')\n",
    "plt.plot(val_losses, label='val')\n",
    "plt.grid()\n",
    "plt.legend()\n",
    "plt.show()"
   ]
  },
  {
   "cell_type": "code",
   "execution_count": 22,
   "metadata": {},
   "outputs": [
    {
     "data": {
      "text/plain": [
       "tensor([ 15, 125,  38, 132,  22,  71,  62,  37,  76,  14, 177,  38,  73, 143,\n",
       "         45,  62, 129,  37,  41,  19, 108,  83,  77,  43, 110,  75,  98,  36,\n",
       "         43, 148, 134, 105], device='cuda:0')"
      ]
     },
     "execution_count": 22,
     "metadata": {},
     "output_type": "execute_result"
    }
   ],
   "source": [
    "labels"
   ]
  },
  {
   "cell_type": "code",
   "execution_count": 44,
   "metadata": {},
   "outputs": [
    {
     "data": {
      "text/plain": [
       "torch.Size([2])"
      ]
     },
     "execution_count": 44,
     "metadata": {},
     "output_type": "execute_result"
    }
   ],
   "source": [
    "pred = out.argmax(1)\n",
    "pred.shape"
   ]
  },
  {
   "cell_type": "code",
   "execution_count": 47,
   "metadata": {},
   "outputs": [
    {
     "data": {
      "text/plain": [
       "tensor(0)"
      ]
     },
     "execution_count": 47,
     "metadata": {},
     "output_type": "execute_result"
    }
   ],
   "source": [
    "(pred==labels).sum()"
   ]
  },
  {
   "cell_type": "code",
   "execution_count": null,
   "metadata": {},
   "outputs": [],
   "source": []
  }
 ],
 "metadata": {
  "kernelspec": {
   "display_name": "birds",
   "language": "python",
   "name": "python3"
  },
  "language_info": {
   "codemirror_mode": {
    "name": "ipython",
    "version": 3
   },
   "file_extension": ".py",
   "mimetype": "text/x-python",
   "name": "python",
   "nbconvert_exporter": "python",
   "pygments_lexer": "ipython3",
   "version": "3.10.13"
  }
 },
 "nbformat": 4,
 "nbformat_minor": 2
}
